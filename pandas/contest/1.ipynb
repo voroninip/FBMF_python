{
 "cells": [
  {
   "cell_type": "code",
   "id": "initial_id",
   "metadata": {
    "collapsed": true,
    "ExecuteTime": {
     "end_time": "2024-04-18T23:36:09.235317Z",
     "start_time": "2024-04-18T23:35:59.168819Z"
    }
   },
   "source": [
    "import pandas as pd\n",
    "import numpy as np\n",
    "\n",
    "N, M = list(map(int, input().split()))\n",
    "arr = np.ndarray(shape=(N, M), dtype=int)\n",
    "for i in range(N):\n",
    "    arr[i] = list(map(int, input().split()))\n",
    "\n",
    "df = pd.DataFrame(arr)\n",
    "df"
   ],
   "outputs": [
    {
     "ename": "ValueError",
     "evalue": "could not broadcast input array from shape (24,) into shape (6,)",
     "output_type": "error",
     "traceback": [
      "\u001B[1;31m---------------------------------------------------------------------------\u001B[0m",
      "\u001B[1;31mValueError\u001B[0m                                Traceback (most recent call last)",
      "Cell \u001B[1;32mIn[79], line 7\u001B[0m\n\u001B[0;32m      5\u001B[0m arr \u001B[38;5;241m=\u001B[39m np\u001B[38;5;241m.\u001B[39mndarray(shape\u001B[38;5;241m=\u001B[39m(N, M), dtype\u001B[38;5;241m=\u001B[39m\u001B[38;5;28mint\u001B[39m)\n\u001B[0;32m      6\u001B[0m \u001B[38;5;28;01mfor\u001B[39;00m i \u001B[38;5;129;01min\u001B[39;00m \u001B[38;5;28mrange\u001B[39m(N):\n\u001B[1;32m----> 7\u001B[0m     arr[i] \u001B[38;5;241m=\u001B[39m \u001B[38;5;28mlist\u001B[39m(\u001B[38;5;28mmap\u001B[39m(\u001B[38;5;28mint\u001B[39m, \u001B[38;5;28minput\u001B[39m()\u001B[38;5;241m.\u001B[39msplit()))\n\u001B[0;32m      9\u001B[0m df \u001B[38;5;241m=\u001B[39m pd\u001B[38;5;241m.\u001B[39mDataFrame(arr)\n\u001B[0;32m     10\u001B[0m df\n",
      "\u001B[1;31mValueError\u001B[0m: could not broadcast input array from shape (24,) into shape (6,)"
     ]
    }
   ],
   "execution_count": 79
  },
  {
   "metadata": {
    "ExecuteTime": {
     "end_time": "2024-04-18T23:27:18.051062Z",
     "start_time": "2024-04-18T23:27:18.040709Z"
    }
   },
   "cell_type": "code",
   "source": [
    "df = pd.read_csv('data.csv', dtype=int)\n",
    "df"
   ],
   "id": "55b196ad7f07564e",
   "outputs": [
    {
     "data": {
      "text/plain": [
       "   0  1  2  3  4  5\n",
       "0  1  4  4  2  1  1\n",
       "1  0  0  1  0 -1 -1\n",
       "2 -2 -3 -1 -5 -6 -4\n",
       "3 -1 -3 -3 -4 -4 -2"
      ],
      "text/html": [
       "<div>\n",
       "<style scoped>\n",
       "    .dataframe tbody tr th:only-of-type {\n",
       "        vertical-align: middle;\n",
       "    }\n",
       "\n",
       "    .dataframe tbody tr th {\n",
       "        vertical-align: top;\n",
       "    }\n",
       "\n",
       "    .dataframe thead th {\n",
       "        text-align: right;\n",
       "    }\n",
       "</style>\n",
       "<table border=\"1\" class=\"dataframe\">\n",
       "  <thead>\n",
       "    <tr style=\"text-align: right;\">\n",
       "      <th></th>\n",
       "      <th>0</th>\n",
       "      <th>1</th>\n",
       "      <th>2</th>\n",
       "      <th>3</th>\n",
       "      <th>4</th>\n",
       "      <th>5</th>\n",
       "    </tr>\n",
       "  </thead>\n",
       "  <tbody>\n",
       "    <tr>\n",
       "      <th>0</th>\n",
       "      <td>1</td>\n",
       "      <td>4</td>\n",
       "      <td>4</td>\n",
       "      <td>2</td>\n",
       "      <td>1</td>\n",
       "      <td>1</td>\n",
       "    </tr>\n",
       "    <tr>\n",
       "      <th>1</th>\n",
       "      <td>0</td>\n",
       "      <td>0</td>\n",
       "      <td>1</td>\n",
       "      <td>0</td>\n",
       "      <td>-1</td>\n",
       "      <td>-1</td>\n",
       "    </tr>\n",
       "    <tr>\n",
       "      <th>2</th>\n",
       "      <td>-2</td>\n",
       "      <td>-3</td>\n",
       "      <td>-1</td>\n",
       "      <td>-5</td>\n",
       "      <td>-6</td>\n",
       "      <td>-4</td>\n",
       "    </tr>\n",
       "    <tr>\n",
       "      <th>3</th>\n",
       "      <td>-1</td>\n",
       "      <td>-3</td>\n",
       "      <td>-3</td>\n",
       "      <td>-4</td>\n",
       "      <td>-4</td>\n",
       "      <td>-2</td>\n",
       "    </tr>\n",
       "  </tbody>\n",
       "</table>\n",
       "</div>"
      ]
     },
     "execution_count": 73,
     "metadata": {},
     "output_type": "execute_result"
    }
   ],
   "execution_count": 73
  },
  {
   "metadata": {
    "ExecuteTime": {
     "end_time": "2024-04-18T23:27:19.125251Z",
     "start_time": "2024-04-18T23:27:19.117236Z"
    }
   },
   "cell_type": "code",
   "source": "print(df[df < -5].notna().sum().sum())",
   "id": "27282eb1b74fd140",
   "outputs": [
    {
     "name": "stdout",
     "output_type": "stream",
     "text": [
      "1\n"
     ]
    }
   ],
   "execution_count": 74
  },
  {
   "metadata": {
    "ExecuteTime": {
     "end_time": "2024-04-18T23:27:19.623409Z",
     "start_time": "2024-04-18T23:27:19.615837Z"
    }
   },
   "cell_type": "code",
   "source": "print(int(abs(df[df < 0].sum().sum())))",
   "id": "b874bbed0a51ea8c",
   "outputs": [
    {
     "name": "stdout",
     "output_type": "stream",
     "text": [
      "40\n"
     ]
    }
   ],
   "execution_count": 75
  },
  {
   "metadata": {
    "ExecuteTime": {
     "end_time": "2024-04-18T23:27:20.176466Z",
     "start_time": "2024-04-18T23:27:20.170558Z"
    }
   },
   "cell_type": "code",
   "source": "print(int(df.max().max()))",
   "id": "47003e4a948dceb3",
   "outputs": [
    {
     "name": "stdout",
     "output_type": "stream",
     "text": [
      "4\n"
     ]
    }
   ],
   "execution_count": 76
  },
  {
   "metadata": {
    "ExecuteTime": {
     "end_time": "2024-04-18T23:27:29.266545Z",
     "start_time": "2024-04-18T23:27:29.261217Z"
    }
   },
   "cell_type": "code",
   "source": "df.to_csv('data.csv')",
   "id": "ff256c4557061ae9",
   "outputs": [],
   "execution_count": 78
  }
 ],
 "metadata": {
  "kernelspec": {
   "display_name": "Python 3",
   "language": "python",
   "name": "python3"
  },
  "language_info": {
   "codemirror_mode": {
    "name": "ipython",
    "version": 2
   },
   "file_extension": ".py",
   "mimetype": "text/x-python",
   "name": "python",
   "nbconvert_exporter": "python",
   "pygments_lexer": "ipython2",
   "version": "2.7.6"
  }
 },
 "nbformat": 4,
 "nbformat_minor": 5
}
