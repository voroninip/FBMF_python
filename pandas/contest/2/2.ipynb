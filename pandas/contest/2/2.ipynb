{
 "cells": [
  {
   "cell_type": "code",
   "id": "initial_id",
   "metadata": {
    "collapsed": true,
    "ExecuteTime": {
     "end_time": "2024-04-19T18:34:15.281317Z",
     "start_time": "2024-04-19T18:34:15.262027Z"
    }
   },
   "source": [
    "import pandas as pd\n",
    "import numpy as np\n",
    "\n",
    "A_path = 'A.dat'\n",
    "b_path = 'b.dat'\n",
    "A = np.matrix(pd.DataFrame(pd.read_csv(A_path, sep=' ', header=None), dtype=np.float64))\n",
    "A = np.power(A, 2)\n",
    "b = np.matrix(pd.read_csv(b_path, sep=' ', header=None), dtype=np.float64)\n",
    "A"
   ],
   "outputs": [
    {
     "data": {
      "text/plain": [
       "matrix([[1.23210000e-02, 0.00000000e+00, 0.00000000e+00],\n",
       "        [0.00000000e+00, 1.02030403e-06, 0.00000000e+00],\n",
       "        [0.00000000e+00, 0.00000000e+00, 1.75138782e-02]])"
      ]
     },
     "execution_count": 97,
     "metadata": {},
     "output_type": "execute_result"
    }
   ],
   "execution_count": 97
  },
  {
   "metadata": {
    "ExecuteTime": {
     "end_time": "2024-04-19T17:48:45.435205Z",
     "start_time": "2024-04-19T17:48:42.346695Z"
    }
   },
   "cell_type": "code",
   "source": [
    "X = np.matrix(list(map(np.float64, input().split())))\n",
    "X"
   ],
   "id": "5c80b6e8e651b8ab",
   "outputs": [
    {
     "data": {
      "text/plain": [
       "matrix([[0.5],\n",
       "        [0.1],\n",
       "        [0.5]])"
      ]
     },
     "execution_count": 83,
     "metadata": {},
     "output_type": "execute_result"
    }
   ],
   "execution_count": 83
  },
  {
   "metadata": {
    "ExecuteTime": {
     "end_time": "2024-04-19T17:51:42.842912Z",
     "start_time": "2024-04-19T17:51:42.829879Z"
    }
   },
   "cell_type": "code",
   "source": "b",
   "id": "38da347709c4a451",
   "outputs": [
    {
     "data": {
      "text/plain": [
       "matrix([[2.5, 2.5, 2.5]])"
      ]
     },
     "execution_count": 88,
     "metadata": {},
     "output_type": "execute_result"
    }
   ],
   "execution_count": 88
  },
  {
   "metadata": {
    "ExecuteTime": {
     "end_time": "2024-04-19T18:44:03.245193Z",
     "start_time": "2024-04-19T18:44:03.232668Z"
    }
   },
   "cell_type": "code",
   "source": "print((np.dot(np.dot(X, A), b.T).astype(np.float64)).item())",
   "id": "3ff0e2566771e080",
   "outputs": [
    {
     "name": "stdout",
     "output_type": "stream",
     "text": [
      "0.03729385288450768\n"
     ]
    }
   ],
   "execution_count": 100
  }
 ],
 "metadata": {
  "kernelspec": {
   "display_name": "Python 3",
   "language": "python",
   "name": "python3"
  },
  "language_info": {
   "codemirror_mode": {
    "name": "ipython",
    "version": 2
   },
   "file_extension": ".py",
   "mimetype": "text/x-python",
   "name": "python",
   "nbconvert_exporter": "python",
   "pygments_lexer": "ipython2",
   "version": "2.7.6"
  }
 },
 "nbformat": 4,
 "nbformat_minor": 5
}
