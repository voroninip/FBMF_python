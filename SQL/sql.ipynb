{
 "cells": [
  {
   "cell_type": "code",
   "execution_count": 27,
   "id": "initial_id",
   "metadata": {
    "collapsed": true,
    "ExecuteTime": {
     "end_time": "2024-03-06T18:28:21.254324Z",
     "start_time": "2024-03-06T18:28:21.251091Z"
    }
   },
   "outputs": [],
   "source": [
    "from pandas import DataFrame\n",
    "import sqlite3\n",
    "con = sqlite3.connect(\"data_base.db\")"
   ]
  },
  {
   "cell_type": "code",
   "outputs": [],
   "source": [
    "cur = con.cursor()\n",
    "cur.executescript(\"\"\"\n",
    "    CREATE TABLE Books (\n",
    "        id INT PRIMARY KEY,\n",
    "        author VARCHAR(100),\n",
    "        title VARCHAR(100),\n",
    "        publish_year INT\n",
    "    );\n",
    "    \n",
    "    CREATE TABLE Readers (\n",
    "        id INT PRIMARY KEY,\n",
    "        name VARCHAR(100)\n",
    "    );\n",
    "    \n",
    "    CREATE TABLE Records (\n",
    "        reader_id INT,\n",
    "        book_id INT,\n",
    "        taking_date DATE,\n",
    "        returning_date DATE,\n",
    "        FOREIGN KEY (reader_id) REFERENCES Readers(id),\n",
    "        FOREIGN KEY (book_id) REFERENCES Books(id)\n",
    "    );\n",
    "    \"\"\")"
   ],
   "metadata": {
    "collapsed": false
   },
   "id": "4685f16cfa6a8025",
   "execution_count": null
  },
  {
   "cell_type": "code",
   "outputs": [],
   "source": [
    "cur.execute('''\n",
    "    INSERT INTO Books (id, author, title, publish_year) VALUES\n",
    "    (1, 'Лев Толстой', 'Война и мир', 1869),\n",
    "    (2, 'Федор Достоевский', 'Преступление и наказание', 1866),\n",
    "    (3, 'Антуан де Сент-Экзюпери', 'Маленький принц', 1943);\n",
    "''')"
   ],
   "metadata": {
    "collapsed": false
   },
   "id": "b38165ebfb75af9d",
   "execution_count": null
  },
  {
   "cell_type": "code",
   "outputs": [],
   "source": [
    "cur.execute('''\n",
    "    INSERT INTO Readers (id, name) VALUES\n",
    "    (1, 'Иван Иванов'),\n",
    "    (2, 'Петр Петров'),\n",
    "    (3, 'Мария Сидорова');\n",
    "    ''')"
   ],
   "metadata": {
    "collapsed": false
   },
   "id": "bbb464f76d9f2864",
   "execution_count": null
  },
  {
   "cell_type": "code",
   "outputs": [],
   "source": [
    "cur.execute('''\n",
    "    INSERT INTO Records (reader_id, book_id, taking_date, returning_date) VALUES\n",
    "    (1, 3, '2024-01-16', NULL),\n",
    "    (2, 2, '2024-02-01', '2024-02-25'),\n",
    "    (3, 2, '2024-01-05', NULL);\n",
    "    ''')"
   ],
   "metadata": {
    "collapsed": false
   },
   "id": "8e03c94bb51c86fc",
   "execution_count": null
  },
  {
   "cell_type": "markdown",
   "source": [
    "### 1. Вывести список книг"
   ],
   "metadata": {
    "collapsed": false
   },
   "id": "bae7dfd5846a611a"
  },
  {
   "cell_type": "code",
   "outputs": [
    {
     "name": "stdout",
     "output_type": "stream",
     "text": [
      "              Война и мир\n",
      " Преступление и наказание\n",
      "          Маленький принц\n"
     ]
    }
   ],
   "source": [
    "cur.execute(\"SELECT title FROM Books\")\n",
    "print(DataFrame(cur.fetchall()).to_string(header=None, index=None))"
   ],
   "metadata": {
    "collapsed": false,
    "ExecuteTime": {
     "end_time": "2024-03-06T18:28:21.343391Z",
     "start_time": "2024-03-06T18:28:21.337525Z"
    }
   },
   "id": "bb6bb07e7f86cae2",
   "execution_count": 32
  },
  {
   "cell_type": "markdown",
   "source": [
    "### 2. Вывести список читателей"
   ],
   "metadata": {
    "collapsed": false
   },
   "id": "4f4d9cc0769627cf"
  },
  {
   "cell_type": "code",
   "outputs": [
    {
     "name": "stdout",
     "output_type": "stream",
     "text": [
      "    Иван Иванов\n",
      "    Петр Петров\n",
      " Мария Сидорова\n"
     ]
    }
   ],
   "source": [
    "cur.execute(\"SELECT name FROM Readers\")\n",
    "print(DataFrame(cur.fetchall()).to_string(header=None, index=None))"
   ],
   "metadata": {
    "collapsed": false,
    "ExecuteTime": {
     "end_time": "2024-03-06T18:28:21.350341Z",
     "start_time": "2024-03-06T18:28:21.345400Z"
    }
   },
   "id": "2ce5b4b86a149a4c",
   "execution_count": 33
  },
  {
   "cell_type": "markdown",
   "source": [
    "### 3. Добавить книгу"
   ],
   "metadata": {
    "collapsed": false
   },
   "id": "efe5e26c4836951"
  },
  {
   "cell_type": "code",
   "outputs": [],
   "source": [
    "cur.execute('''\n",
    "     INSERT INTO Books (id, author, title, publish_year) VALUES\n",
    "    (4, 'Чак Паланик', 'Бойцовский клуб', 1996);\n",
    "''')"
   ],
   "metadata": {
    "collapsed": false
   },
   "id": "8540dfe831e769e7",
   "execution_count": null
  },
  {
   "cell_type": "markdown",
   "source": [
    "### 4. Добавить читателя"
   ],
   "metadata": {
    "collapsed": false
   },
   "id": "38d0257d86b9b839"
  },
  {
   "cell_type": "code",
   "outputs": [
    {
     "name": "stdout",
     "output_type": "stream",
     "text": [
      "    Иван Иванов\n",
      "    Петр Петров\n",
      " Мария Сидорова\n",
      "  Василий Дубов\n"
     ]
    }
   ],
   "source": [
    "cur.execute('''\n",
    "    INSERT INTO Readers (id, name) VALUES\n",
    "    (4, 'Василий Дубов')\n",
    "''')\n",
    "cur.execute(\"SELECT name FROM Readers\")\n",
    "print(DataFrame(cur.fetchall()).to_string(header=None, index=None))"
   ],
   "metadata": {
    "collapsed": false,
    "ExecuteTime": {
     "end_time": "2024-03-06T18:28:21.377389Z",
     "start_time": "2024-03-06T18:28:21.372735Z"
    }
   },
   "id": "23fb6383394c3064",
   "execution_count": 35
  },
  {
   "cell_type": "markdown",
   "source": [
    "### 5. Выдать книгу читателю (второму в списке читателю четвёртую книгу)"
   ],
   "metadata": {
    "collapsed": false
   },
   "id": "bf3a55a1943c622"
  },
  {
   "cell_type": "code",
   "outputs": [
    {
     "name": "stdout",
     "output_type": "stream",
     "text": [
      " 1  3  2024-01-16        None\n",
      " 2  2  2024-02-01  2024-02-25\n",
      " 3  2  2024-01-05        None\n",
      " 2  4  2024-03-06        None\n"
     ]
    }
   ],
   "source": [
    "cur.execute('''\n",
    "    INSERT INTO Records (reader_id, book_id, taking_date, returning_date) VALUES\n",
    "    (2, 4, '2024-03-06', NULL);\n",
    "''')\n",
    "cur.execute(\"SELECT * FROM Records\")\n",
    "print(DataFrame(cur.fetchall()).to_string(header=None, index=None))"
   ],
   "metadata": {
    "collapsed": false,
    "ExecuteTime": {
     "end_time": "2024-03-06T18:28:21.446383Z",
     "start_time": "2024-03-06T18:28:21.440396Z"
    }
   },
   "id": "a4325675342a2059",
   "execution_count": 36
  },
  {
   "cell_type": "markdown",
   "source": [
    "### 6. Принять книгу (у третьего в списке читателя принять вторую книгу)"
   ],
   "metadata": {
    "collapsed": false
   },
   "id": "b967115fa0f93551"
  },
  {
   "cell_type": "code",
   "outputs": [
    {
     "name": "stdout",
     "output_type": "stream",
     "text": [
      " 1  3  2024-01-16        None\n",
      " 2  2  2024-02-01  2024-02-25\n",
      " 3  2  2024-01-05        None\n",
      " 2  4  2024-03-06        None\n",
      " 3  2  2024-01-05  2024-03-06\n"
     ]
    }
   ],
   "source": [
    "cur.execute('''\n",
    "    INSERT INTO Records (reader_id, book_id, taking_date, returning_date) VALUES\n",
    "    (3, 2, '2024-01-05', '2024-03-06');\n",
    "''')\n",
    "cur.execute(\"SELECT * FROM Records\")\n",
    "print(DataFrame(cur.fetchall()).to_string(header=None, index=None))"
   ],
   "metadata": {
    "collapsed": false,
    "ExecuteTime": {
     "end_time": "2024-03-06T18:28:21.459448Z",
     "start_time": "2024-03-06T18:28:21.454390Z"
    }
   },
   "id": "d651f3c55f35bfeb",
   "execution_count": 37
  }
 ],
 "metadata": {
  "kernelspec": {
   "display_name": "Python 3",
   "language": "python",
   "name": "python3"
  },
  "language_info": {
   "codemirror_mode": {
    "name": "ipython",
    "version": 2
   },
   "file_extension": ".py",
   "mimetype": "text/x-python",
   "name": "python",
   "nbconvert_exporter": "python",
   "pygments_lexer": "ipython2",
   "version": "2.7.6"
  }
 },
 "nbformat": 4,
 "nbformat_minor": 5
}
