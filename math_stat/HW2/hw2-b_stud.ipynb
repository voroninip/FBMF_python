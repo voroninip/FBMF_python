{
 "cells": [
  {
   "cell_type": "markdown",
   "metadata": {},
   "source": [
    "# <a href=\"https://miptstats.github.io/courses/mathstat_bmhf.html\">Математическая статистика (ФБМФ, ФЭФМ)</a>\n",
    "## Домашнее задание 2 &mdash; часть В\n",
    "\n",
    "**Правила, <font color=\"red\">прочитайте внимательно</font>:**\n",
    "\n",
    "* Выполненную работу нужно отправить телеграм-боту `@miptstats_st_bot`. Для начала работы с ботом каждый раз отправляйте `/start`. Дождитесь подтверждения от бота, что он принял файл. Если подтверждения нет, то что-то не так. **Работы, присланные иным способом, не принимаются.**\n",
    "* Дедлайн см. в боте. После дедлайна работы не принимаются **вообще никак**, кроме случаев наличия уважительной причины.\n",
    "* До дедлайна можно поменять решение любое количество раз. Начинайте точно так же сдавать задание, бот подскажет.\n",
    "* Любую уважительную причину нужно подтвердить документально, отправив скан или фото боту. При этом работу можно сдать позже на столько дней, на сколько время ее действия пересекается с временем выполнения задания.\n",
    "* Прислать нужно **ноутбук в формате ipynb**. Другие форматы не принимаются.\n",
    "* Выполнять задание необходимо **полностью самостоятельно**. При обнаружении списывания **все участники списывания будут сдавать устный зачет.**\n",
    "* Решения, размещенные на каких-либо интернет-ресурсах не принимаются. Кроме того, публикация решения в открытом доступе может быть приравнена к предоставлении возможности списать.\n",
    "* Простой или основной уровень вы выбираете самостоятельно, выполняя или не выполняя задания типа B. При выборе **простого уровня** достаточно выполнить задания *типа A*. При выборе **основного уровня** нужно выполнять *как задания типа A, так и задания типа B*.\n",
    "* Для выполнения задания используйте этот ноутбук в качествие основы, ничего не удаляя из него. Можно добавлять необходимое количество ячеек. Ячейки с assert'ами **удалять и изменять нельзя**, в противном случае соответствующее задание не будет оценено.\n",
    "* Комментарии к решению пишите в markdown-ячейках.\n",
    "* **Если код студента недописан и т.д., то он не оценивается.**\n",
    "* Каждая задача стоит **5 баллов**."
   ]
  },
  {
   "cell_type": "markdown",
   "metadata": {},
   "source": [
    "<font size=\"5\">Для выполнения задания используйте этот ноутбук в качествие основы, ничего не удаляя из него. Можно добавлять необходимое количество ячеек. Ячейки с assert'ами **удалять и изменять нельзя**, в противном случае соответствующее задание не будет оценено.</font>"
   ]
  },
  {
   "cell_type": "code",
   "metadata": {
    "ExecuteTime": {
     "end_time": "2024-05-15T18:55:20.864334Z",
     "start_time": "2024-05-15T18:55:20.856325Z"
    }
   },
   "source": [
    "import numpy as np\n",
    "import scipy.stats as sps\n",
    "import matplotlib.pyplot as plt\n",
    "import warnings\n",
    "warnings.filterwarnings('ignore')\n",
    "import seaborn as sns\n",
    "sns.set(style=\"darkgrid\", font_scale=1.4)\n",
    "plt.style.use(\"dark_background\")\n",
    "%matplotlib inline"
   ],
   "outputs": [],
   "execution_count": 18
  },
  {
   "cell_type": "markdown",
   "metadata": {
    "deletable": false,
    "editable": false,
    "nbgrader": {
     "cell_type": "markdown",
     "checksum": "85a2cbcf3acec34447343fb30a6a66a2",
     "grade": false,
     "grade_id": "cell-21c79437bc35dc4c",
     "locked": true,
     "points": 5,
     "schema_version": 3,
     "solution": false,
     "task": true
    }
   },
   "source": [
    "----\n",
    "\n",
    "### Задача 4\n",
    "\n",
    "В этой задаче нужно визуализировать доверительные интервалы для выборок из различных распределений. \n",
    "\n",
    "Пусть выборка $X_1, ... X_{100}$ имеет распределение $Bern(\\theta)$. <a href=\"https://miptstats.github.io/courses/python/07_random.html#2.-Работа-с-библиотекой-scipy.stats.\">Сгенерируйте</a> такую выборку, взяв $\\theta=1/2$. Для каждой подвыборке вида $X_1, ... X_i$, $1 \\le i \\le 100$ постройте асимптотический доверительный интервал для параметра $\\theta$ уровня доверия $\\alpha=0.95$. Формула для интервала была выведена на семинаре. Постройте график зависимости доверительного интервала от размера выборки (см. <a href=\"https://miptstats.github.io/courses/mathstat_bmhf/seminar3.html#Задача-1.\">код с семинара</a>). \n",
    "\n",
    "Аналогичные действия выполните для выборки из распределения Лапласса с плотностью $p(x) = \\frac{1}{2} e^{-|x-\\theta|}$, сгенерировав выборку для $\\theta=0$."
   ]
  },
  {
   "cell_type": "code",
   "metadata": {
    "ExecuteTime": {
     "end_time": "2024-05-15T18:55:20.948435Z",
     "start_time": "2024-05-15T18:55:20.946333Z"
    }
   },
   "source": "",
   "outputs": [],
   "execution_count": 18
  },
  {
   "cell_type": "markdown",
   "metadata": {},
   "source": [
    "**Вывод:** <...>"
   ]
  },
  {
   "cell_type": "markdown",
   "metadata": {
    "deletable": false,
    "editable": false,
    "nbgrader": {
     "cell_type": "markdown",
     "checksum": "720302fbd450c9d525eb8a0f3f0d640b",
     "grade": false,
     "grade_id": "cell-edc8f8dc8da68532",
     "locked": true,
     "points": 5,
     "schema_version": 3,
     "solution": false,
     "task": true
    }
   },
   "source": [
    "__________________\n",
    "### Задача 5\n",
    "\n",
    "Если у вас еще не установлена <a href=\"https://miptstats.github.io/courses/python/09_seaborn.html\">библиотека `seaborn`</a> для получения красивых графиков, поставьте ее."
   ]
  },
  {
   "cell_type": "code",
   "metadata": {
    "ExecuteTime": {
     "end_time": "2024-05-15T18:55:20.956284Z",
     "start_time": "2024-05-15T18:55:20.952435Z"
    }
   },
   "source": [
    "import seaborn as sns\n",
    "sns.set(font_scale=1.2, palette='Set2')"
   ],
   "outputs": [],
   "execution_count": 19
  },
  {
   "cell_type": "markdown",
   "metadata": {},
   "source": [
    "Загрузим данные <a target=\"_blank\" href=\"https://ru.wikipedia.org/wiki/Ирисы_Фишера\">\"Ирисы Фишера\"</a> о цветках ириса различных сортов и посмотрим на первые пять строк таблицы. Для хранения данных используется <a href=\"https://miptstats.github.io/courses/python/08_pandas1.html#2.-Тип-данных-DataFrame\">класс `DataFrame`</a> <a href=\"https://miptstats.github.io/courses/python/08_pandas1.html\">библиотеки `pandas`</a>."
   ]
  },
  {
   "cell_type": "code",
   "metadata": {
    "ExecuteTime": {
     "end_time": "2024-05-15T18:55:20.988161Z",
     "start_time": "2024-05-15T18:55:20.977285Z"
    }
   },
   "source": [
    "df = sns.load_dataset(\"iris\")\n",
    "df.head()"
   ],
   "outputs": [
    {
     "data": {
      "text/plain": [
       "   sepal_length  sepal_width  petal_length  petal_width species\n",
       "0           5.1          3.5           1.4          0.2  setosa\n",
       "1           4.9          3.0           1.4          0.2  setosa\n",
       "2           4.7          3.2           1.3          0.2  setosa\n",
       "3           4.6          3.1           1.5          0.2  setosa\n",
       "4           5.0          3.6           1.4          0.2  setosa"
      ],
      "text/html": [
       "<div>\n",
       "<style scoped>\n",
       "    .dataframe tbody tr th:only-of-type {\n",
       "        vertical-align: middle;\n",
       "    }\n",
       "\n",
       "    .dataframe tbody tr th {\n",
       "        vertical-align: top;\n",
       "    }\n",
       "\n",
       "    .dataframe thead th {\n",
       "        text-align: right;\n",
       "    }\n",
       "</style>\n",
       "<table border=\"1\" class=\"dataframe\">\n",
       "  <thead>\n",
       "    <tr style=\"text-align: right;\">\n",
       "      <th></th>\n",
       "      <th>sepal_length</th>\n",
       "      <th>sepal_width</th>\n",
       "      <th>petal_length</th>\n",
       "      <th>petal_width</th>\n",
       "      <th>species</th>\n",
       "    </tr>\n",
       "  </thead>\n",
       "  <tbody>\n",
       "    <tr>\n",
       "      <th>0</th>\n",
       "      <td>5.1</td>\n",
       "      <td>3.5</td>\n",
       "      <td>1.4</td>\n",
       "      <td>0.2</td>\n",
       "      <td>setosa</td>\n",
       "    </tr>\n",
       "    <tr>\n",
       "      <th>1</th>\n",
       "      <td>4.9</td>\n",
       "      <td>3.0</td>\n",
       "      <td>1.4</td>\n",
       "      <td>0.2</td>\n",
       "      <td>setosa</td>\n",
       "    </tr>\n",
       "    <tr>\n",
       "      <th>2</th>\n",
       "      <td>4.7</td>\n",
       "      <td>3.2</td>\n",
       "      <td>1.3</td>\n",
       "      <td>0.2</td>\n",
       "      <td>setosa</td>\n",
       "    </tr>\n",
       "    <tr>\n",
       "      <th>3</th>\n",
       "      <td>4.6</td>\n",
       "      <td>3.1</td>\n",
       "      <td>1.5</td>\n",
       "      <td>0.2</td>\n",
       "      <td>setosa</td>\n",
       "    </tr>\n",
       "    <tr>\n",
       "      <th>4</th>\n",
       "      <td>5.0</td>\n",
       "      <td>3.6</td>\n",
       "      <td>1.4</td>\n",
       "      <td>0.2</td>\n",
       "      <td>setosa</td>\n",
       "    </tr>\n",
       "  </tbody>\n",
       "</table>\n",
       "</div>"
      ]
     },
     "execution_count": 20,
     "metadata": {},
     "output_type": "execute_result"
    }
   ],
   "execution_count": 20
  },
  {
   "cell_type": "markdown",
   "metadata": {},
   "source": [
    "Столбцы отвечают за длину и ширину чашелистика и лепестка соответственно, а так же за тип цветка (setosa, virginica, versicolor).\n",
    "\n",
    "Вектор значений первого столбца можно получить так"
   ]
  },
  {
   "cell_type": "code",
   "metadata": {
    "ExecuteTime": {
     "end_time": "2024-05-15T18:55:21.024420Z",
     "start_time": "2024-05-15T18:55:21.017114Z"
    }
   },
   "source": [
    "df['sepal_length']"
   ],
   "outputs": [
    {
     "data": {
      "text/plain": [
       "0      5.1\n",
       "1      4.9\n",
       "2      4.7\n",
       "3      4.6\n",
       "4      5.0\n",
       "      ... \n",
       "145    6.7\n",
       "146    6.3\n",
       "147    6.5\n",
       "148    6.2\n",
       "149    5.9\n",
       "Name: sepal_length, Length: 150, dtype: float64"
      ]
     },
     "execution_count": 21,
     "metadata": {},
     "output_type": "execute_result"
    }
   ],
   "execution_count": 21
  },
  {
   "cell_type": "markdown",
   "metadata": {},
   "source": [
    "Первую строку можно получить так"
   ]
  },
  {
   "cell_type": "code",
   "metadata": {
    "ExecuteTime": {
     "end_time": "2024-05-15T18:55:21.044114Z",
     "start_time": "2024-05-15T18:55:21.037419Z"
    }
   },
   "source": [
    "df.iloc[0]"
   ],
   "outputs": [
    {
     "data": {
      "text/plain": [
       "sepal_length       5.1\n",
       "sepal_width        3.5\n",
       "petal_length       1.4\n",
       "petal_width        0.2\n",
       "species         setosa\n",
       "Name: 0, dtype: object"
      ]
     },
     "execution_count": 22,
     "metadata": {},
     "output_type": "execute_result"
    }
   ],
   "execution_count": 22
  },
  {
   "cell_type": "markdown",
   "metadata": {},
   "source": [
    "Таблица с данными только по сорту virginica извлекается следующим образом"
   ]
  },
  {
   "cell_type": "code",
   "metadata": {
    "ExecuteTime": {
     "end_time": "2024-05-15T18:55:21.076063Z",
     "start_time": "2024-05-15T18:55:21.047111Z"
    }
   },
   "source": [
    "df[df['species'] == 'virginica']"
   ],
   "outputs": [
    {
     "data": {
      "text/plain": [
       "     sepal_length  sepal_width  petal_length  petal_width    species\n",
       "100           6.3          3.3           6.0          2.5  virginica\n",
       "101           5.8          2.7           5.1          1.9  virginica\n",
       "102           7.1          3.0           5.9          2.1  virginica\n",
       "103           6.3          2.9           5.6          1.8  virginica\n",
       "104           6.5          3.0           5.8          2.2  virginica\n",
       "105           7.6          3.0           6.6          2.1  virginica\n",
       "106           4.9          2.5           4.5          1.7  virginica\n",
       "107           7.3          2.9           6.3          1.8  virginica\n",
       "108           6.7          2.5           5.8          1.8  virginica\n",
       "109           7.2          3.6           6.1          2.5  virginica\n",
       "110           6.5          3.2           5.1          2.0  virginica\n",
       "111           6.4          2.7           5.3          1.9  virginica\n",
       "112           6.8          3.0           5.5          2.1  virginica\n",
       "113           5.7          2.5           5.0          2.0  virginica\n",
       "114           5.8          2.8           5.1          2.4  virginica\n",
       "115           6.4          3.2           5.3          2.3  virginica\n",
       "116           6.5          3.0           5.5          1.8  virginica\n",
       "117           7.7          3.8           6.7          2.2  virginica\n",
       "118           7.7          2.6           6.9          2.3  virginica\n",
       "119           6.0          2.2           5.0          1.5  virginica\n",
       "120           6.9          3.2           5.7          2.3  virginica\n",
       "121           5.6          2.8           4.9          2.0  virginica\n",
       "122           7.7          2.8           6.7          2.0  virginica\n",
       "123           6.3          2.7           4.9          1.8  virginica\n",
       "124           6.7          3.3           5.7          2.1  virginica\n",
       "125           7.2          3.2           6.0          1.8  virginica\n",
       "126           6.2          2.8           4.8          1.8  virginica\n",
       "127           6.1          3.0           4.9          1.8  virginica\n",
       "128           6.4          2.8           5.6          2.1  virginica\n",
       "129           7.2          3.0           5.8          1.6  virginica\n",
       "130           7.4          2.8           6.1          1.9  virginica\n",
       "131           7.9          3.8           6.4          2.0  virginica\n",
       "132           6.4          2.8           5.6          2.2  virginica\n",
       "133           6.3          2.8           5.1          1.5  virginica\n",
       "134           6.1          2.6           5.6          1.4  virginica\n",
       "135           7.7          3.0           6.1          2.3  virginica\n",
       "136           6.3          3.4           5.6          2.4  virginica\n",
       "137           6.4          3.1           5.5          1.8  virginica\n",
       "138           6.0          3.0           4.8          1.8  virginica\n",
       "139           6.9          3.1           5.4          2.1  virginica\n",
       "140           6.7          3.1           5.6          2.4  virginica\n",
       "141           6.9          3.1           5.1          2.3  virginica\n",
       "142           5.8          2.7           5.1          1.9  virginica\n",
       "143           6.8          3.2           5.9          2.3  virginica\n",
       "144           6.7          3.3           5.7          2.5  virginica\n",
       "145           6.7          3.0           5.2          2.3  virginica\n",
       "146           6.3          2.5           5.0          1.9  virginica\n",
       "147           6.5          3.0           5.2          2.0  virginica\n",
       "148           6.2          3.4           5.4          2.3  virginica\n",
       "149           5.9          3.0           5.1          1.8  virginica"
      ],
      "text/html": [
       "<div>\n",
       "<style scoped>\n",
       "    .dataframe tbody tr th:only-of-type {\n",
       "        vertical-align: middle;\n",
       "    }\n",
       "\n",
       "    .dataframe tbody tr th {\n",
       "        vertical-align: top;\n",
       "    }\n",
       "\n",
       "    .dataframe thead th {\n",
       "        text-align: right;\n",
       "    }\n",
       "</style>\n",
       "<table border=\"1\" class=\"dataframe\">\n",
       "  <thead>\n",
       "    <tr style=\"text-align: right;\">\n",
       "      <th></th>\n",
       "      <th>sepal_length</th>\n",
       "      <th>sepal_width</th>\n",
       "      <th>petal_length</th>\n",
       "      <th>petal_width</th>\n",
       "      <th>species</th>\n",
       "    </tr>\n",
       "  </thead>\n",
       "  <tbody>\n",
       "    <tr>\n",
       "      <th>100</th>\n",
       "      <td>6.3</td>\n",
       "      <td>3.3</td>\n",
       "      <td>6.0</td>\n",
       "      <td>2.5</td>\n",
       "      <td>virginica</td>\n",
       "    </tr>\n",
       "    <tr>\n",
       "      <th>101</th>\n",
       "      <td>5.8</td>\n",
       "      <td>2.7</td>\n",
       "      <td>5.1</td>\n",
       "      <td>1.9</td>\n",
       "      <td>virginica</td>\n",
       "    </tr>\n",
       "    <tr>\n",
       "      <th>102</th>\n",
       "      <td>7.1</td>\n",
       "      <td>3.0</td>\n",
       "      <td>5.9</td>\n",
       "      <td>2.1</td>\n",
       "      <td>virginica</td>\n",
       "    </tr>\n",
       "    <tr>\n",
       "      <th>103</th>\n",
       "      <td>6.3</td>\n",
       "      <td>2.9</td>\n",
       "      <td>5.6</td>\n",
       "      <td>1.8</td>\n",
       "      <td>virginica</td>\n",
       "    </tr>\n",
       "    <tr>\n",
       "      <th>104</th>\n",
       "      <td>6.5</td>\n",
       "      <td>3.0</td>\n",
       "      <td>5.8</td>\n",
       "      <td>2.2</td>\n",
       "      <td>virginica</td>\n",
       "    </tr>\n",
       "    <tr>\n",
       "      <th>105</th>\n",
       "      <td>7.6</td>\n",
       "      <td>3.0</td>\n",
       "      <td>6.6</td>\n",
       "      <td>2.1</td>\n",
       "      <td>virginica</td>\n",
       "    </tr>\n",
       "    <tr>\n",
       "      <th>106</th>\n",
       "      <td>4.9</td>\n",
       "      <td>2.5</td>\n",
       "      <td>4.5</td>\n",
       "      <td>1.7</td>\n",
       "      <td>virginica</td>\n",
       "    </tr>\n",
       "    <tr>\n",
       "      <th>107</th>\n",
       "      <td>7.3</td>\n",
       "      <td>2.9</td>\n",
       "      <td>6.3</td>\n",
       "      <td>1.8</td>\n",
       "      <td>virginica</td>\n",
       "    </tr>\n",
       "    <tr>\n",
       "      <th>108</th>\n",
       "      <td>6.7</td>\n",
       "      <td>2.5</td>\n",
       "      <td>5.8</td>\n",
       "      <td>1.8</td>\n",
       "      <td>virginica</td>\n",
       "    </tr>\n",
       "    <tr>\n",
       "      <th>109</th>\n",
       "      <td>7.2</td>\n",
       "      <td>3.6</td>\n",
       "      <td>6.1</td>\n",
       "      <td>2.5</td>\n",
       "      <td>virginica</td>\n",
       "    </tr>\n",
       "    <tr>\n",
       "      <th>110</th>\n",
       "      <td>6.5</td>\n",
       "      <td>3.2</td>\n",
       "      <td>5.1</td>\n",
       "      <td>2.0</td>\n",
       "      <td>virginica</td>\n",
       "    </tr>\n",
       "    <tr>\n",
       "      <th>111</th>\n",
       "      <td>6.4</td>\n",
       "      <td>2.7</td>\n",
       "      <td>5.3</td>\n",
       "      <td>1.9</td>\n",
       "      <td>virginica</td>\n",
       "    </tr>\n",
       "    <tr>\n",
       "      <th>112</th>\n",
       "      <td>6.8</td>\n",
       "      <td>3.0</td>\n",
       "      <td>5.5</td>\n",
       "      <td>2.1</td>\n",
       "      <td>virginica</td>\n",
       "    </tr>\n",
       "    <tr>\n",
       "      <th>113</th>\n",
       "      <td>5.7</td>\n",
       "      <td>2.5</td>\n",
       "      <td>5.0</td>\n",
       "      <td>2.0</td>\n",
       "      <td>virginica</td>\n",
       "    </tr>\n",
       "    <tr>\n",
       "      <th>114</th>\n",
       "      <td>5.8</td>\n",
       "      <td>2.8</td>\n",
       "      <td>5.1</td>\n",
       "      <td>2.4</td>\n",
       "      <td>virginica</td>\n",
       "    </tr>\n",
       "    <tr>\n",
       "      <th>115</th>\n",
       "      <td>6.4</td>\n",
       "      <td>3.2</td>\n",
       "      <td>5.3</td>\n",
       "      <td>2.3</td>\n",
       "      <td>virginica</td>\n",
       "    </tr>\n",
       "    <tr>\n",
       "      <th>116</th>\n",
       "      <td>6.5</td>\n",
       "      <td>3.0</td>\n",
       "      <td>5.5</td>\n",
       "      <td>1.8</td>\n",
       "      <td>virginica</td>\n",
       "    </tr>\n",
       "    <tr>\n",
       "      <th>117</th>\n",
       "      <td>7.7</td>\n",
       "      <td>3.8</td>\n",
       "      <td>6.7</td>\n",
       "      <td>2.2</td>\n",
       "      <td>virginica</td>\n",
       "    </tr>\n",
       "    <tr>\n",
       "      <th>118</th>\n",
       "      <td>7.7</td>\n",
       "      <td>2.6</td>\n",
       "      <td>6.9</td>\n",
       "      <td>2.3</td>\n",
       "      <td>virginica</td>\n",
       "    </tr>\n",
       "    <tr>\n",
       "      <th>119</th>\n",
       "      <td>6.0</td>\n",
       "      <td>2.2</td>\n",
       "      <td>5.0</td>\n",
       "      <td>1.5</td>\n",
       "      <td>virginica</td>\n",
       "    </tr>\n",
       "    <tr>\n",
       "      <th>120</th>\n",
       "      <td>6.9</td>\n",
       "      <td>3.2</td>\n",
       "      <td>5.7</td>\n",
       "      <td>2.3</td>\n",
       "      <td>virginica</td>\n",
       "    </tr>\n",
       "    <tr>\n",
       "      <th>121</th>\n",
       "      <td>5.6</td>\n",
       "      <td>2.8</td>\n",
       "      <td>4.9</td>\n",
       "      <td>2.0</td>\n",
       "      <td>virginica</td>\n",
       "    </tr>\n",
       "    <tr>\n",
       "      <th>122</th>\n",
       "      <td>7.7</td>\n",
       "      <td>2.8</td>\n",
       "      <td>6.7</td>\n",
       "      <td>2.0</td>\n",
       "      <td>virginica</td>\n",
       "    </tr>\n",
       "    <tr>\n",
       "      <th>123</th>\n",
       "      <td>6.3</td>\n",
       "      <td>2.7</td>\n",
       "      <td>4.9</td>\n",
       "      <td>1.8</td>\n",
       "      <td>virginica</td>\n",
       "    </tr>\n",
       "    <tr>\n",
       "      <th>124</th>\n",
       "      <td>6.7</td>\n",
       "      <td>3.3</td>\n",
       "      <td>5.7</td>\n",
       "      <td>2.1</td>\n",
       "      <td>virginica</td>\n",
       "    </tr>\n",
       "    <tr>\n",
       "      <th>125</th>\n",
       "      <td>7.2</td>\n",
       "      <td>3.2</td>\n",
       "      <td>6.0</td>\n",
       "      <td>1.8</td>\n",
       "      <td>virginica</td>\n",
       "    </tr>\n",
       "    <tr>\n",
       "      <th>126</th>\n",
       "      <td>6.2</td>\n",
       "      <td>2.8</td>\n",
       "      <td>4.8</td>\n",
       "      <td>1.8</td>\n",
       "      <td>virginica</td>\n",
       "    </tr>\n",
       "    <tr>\n",
       "      <th>127</th>\n",
       "      <td>6.1</td>\n",
       "      <td>3.0</td>\n",
       "      <td>4.9</td>\n",
       "      <td>1.8</td>\n",
       "      <td>virginica</td>\n",
       "    </tr>\n",
       "    <tr>\n",
       "      <th>128</th>\n",
       "      <td>6.4</td>\n",
       "      <td>2.8</td>\n",
       "      <td>5.6</td>\n",
       "      <td>2.1</td>\n",
       "      <td>virginica</td>\n",
       "    </tr>\n",
       "    <tr>\n",
       "      <th>129</th>\n",
       "      <td>7.2</td>\n",
       "      <td>3.0</td>\n",
       "      <td>5.8</td>\n",
       "      <td>1.6</td>\n",
       "      <td>virginica</td>\n",
       "    </tr>\n",
       "    <tr>\n",
       "      <th>130</th>\n",
       "      <td>7.4</td>\n",
       "      <td>2.8</td>\n",
       "      <td>6.1</td>\n",
       "      <td>1.9</td>\n",
       "      <td>virginica</td>\n",
       "    </tr>\n",
       "    <tr>\n",
       "      <th>131</th>\n",
       "      <td>7.9</td>\n",
       "      <td>3.8</td>\n",
       "      <td>6.4</td>\n",
       "      <td>2.0</td>\n",
       "      <td>virginica</td>\n",
       "    </tr>\n",
       "    <tr>\n",
       "      <th>132</th>\n",
       "      <td>6.4</td>\n",
       "      <td>2.8</td>\n",
       "      <td>5.6</td>\n",
       "      <td>2.2</td>\n",
       "      <td>virginica</td>\n",
       "    </tr>\n",
       "    <tr>\n",
       "      <th>133</th>\n",
       "      <td>6.3</td>\n",
       "      <td>2.8</td>\n",
       "      <td>5.1</td>\n",
       "      <td>1.5</td>\n",
       "      <td>virginica</td>\n",
       "    </tr>\n",
       "    <tr>\n",
       "      <th>134</th>\n",
       "      <td>6.1</td>\n",
       "      <td>2.6</td>\n",
       "      <td>5.6</td>\n",
       "      <td>1.4</td>\n",
       "      <td>virginica</td>\n",
       "    </tr>\n",
       "    <tr>\n",
       "      <th>135</th>\n",
       "      <td>7.7</td>\n",
       "      <td>3.0</td>\n",
       "      <td>6.1</td>\n",
       "      <td>2.3</td>\n",
       "      <td>virginica</td>\n",
       "    </tr>\n",
       "    <tr>\n",
       "      <th>136</th>\n",
       "      <td>6.3</td>\n",
       "      <td>3.4</td>\n",
       "      <td>5.6</td>\n",
       "      <td>2.4</td>\n",
       "      <td>virginica</td>\n",
       "    </tr>\n",
       "    <tr>\n",
       "      <th>137</th>\n",
       "      <td>6.4</td>\n",
       "      <td>3.1</td>\n",
       "      <td>5.5</td>\n",
       "      <td>1.8</td>\n",
       "      <td>virginica</td>\n",
       "    </tr>\n",
       "    <tr>\n",
       "      <th>138</th>\n",
       "      <td>6.0</td>\n",
       "      <td>3.0</td>\n",
       "      <td>4.8</td>\n",
       "      <td>1.8</td>\n",
       "      <td>virginica</td>\n",
       "    </tr>\n",
       "    <tr>\n",
       "      <th>139</th>\n",
       "      <td>6.9</td>\n",
       "      <td>3.1</td>\n",
       "      <td>5.4</td>\n",
       "      <td>2.1</td>\n",
       "      <td>virginica</td>\n",
       "    </tr>\n",
       "    <tr>\n",
       "      <th>140</th>\n",
       "      <td>6.7</td>\n",
       "      <td>3.1</td>\n",
       "      <td>5.6</td>\n",
       "      <td>2.4</td>\n",
       "      <td>virginica</td>\n",
       "    </tr>\n",
       "    <tr>\n",
       "      <th>141</th>\n",
       "      <td>6.9</td>\n",
       "      <td>3.1</td>\n",
       "      <td>5.1</td>\n",
       "      <td>2.3</td>\n",
       "      <td>virginica</td>\n",
       "    </tr>\n",
       "    <tr>\n",
       "      <th>142</th>\n",
       "      <td>5.8</td>\n",
       "      <td>2.7</td>\n",
       "      <td>5.1</td>\n",
       "      <td>1.9</td>\n",
       "      <td>virginica</td>\n",
       "    </tr>\n",
       "    <tr>\n",
       "      <th>143</th>\n",
       "      <td>6.8</td>\n",
       "      <td>3.2</td>\n",
       "      <td>5.9</td>\n",
       "      <td>2.3</td>\n",
       "      <td>virginica</td>\n",
       "    </tr>\n",
       "    <tr>\n",
       "      <th>144</th>\n",
       "      <td>6.7</td>\n",
       "      <td>3.3</td>\n",
       "      <td>5.7</td>\n",
       "      <td>2.5</td>\n",
       "      <td>virginica</td>\n",
       "    </tr>\n",
       "    <tr>\n",
       "      <th>145</th>\n",
       "      <td>6.7</td>\n",
       "      <td>3.0</td>\n",
       "      <td>5.2</td>\n",
       "      <td>2.3</td>\n",
       "      <td>virginica</td>\n",
       "    </tr>\n",
       "    <tr>\n",
       "      <th>146</th>\n",
       "      <td>6.3</td>\n",
       "      <td>2.5</td>\n",
       "      <td>5.0</td>\n",
       "      <td>1.9</td>\n",
       "      <td>virginica</td>\n",
       "    </tr>\n",
       "    <tr>\n",
       "      <th>147</th>\n",
       "      <td>6.5</td>\n",
       "      <td>3.0</td>\n",
       "      <td>5.2</td>\n",
       "      <td>2.0</td>\n",
       "      <td>virginica</td>\n",
       "    </tr>\n",
       "    <tr>\n",
       "      <th>148</th>\n",
       "      <td>6.2</td>\n",
       "      <td>3.4</td>\n",
       "      <td>5.4</td>\n",
       "      <td>2.3</td>\n",
       "      <td>virginica</td>\n",
       "    </tr>\n",
       "    <tr>\n",
       "      <th>149</th>\n",
       "      <td>5.9</td>\n",
       "      <td>3.0</td>\n",
       "      <td>5.1</td>\n",
       "      <td>1.8</td>\n",
       "      <td>virginica</td>\n",
       "    </tr>\n",
       "  </tbody>\n",
       "</table>\n",
       "</div>"
      ]
     },
     "execution_count": 23,
     "metadata": {},
     "output_type": "execute_result"
    }
   ],
   "execution_count": 23
  },
  {
   "cell_type": "markdown",
   "metadata": {},
   "source": [
    "Визуализируем данные по двумерным проекциям. Цветом обозначен тип цветка."
   ]
  },
  {
   "cell_type": "code",
   "metadata": {
    "ExecuteTime": {
     "end_time": "2024-05-15T19:43:33.482998Z",
     "start_time": "2024-05-15T19:43:30.620209Z"
    }
   },
   "source": [
    "g = sns.PairGrid(df, hue='species')\n",
    "g.map_offdiag(plt.scatter, cmap =\"Blues_d\")\n",
    "g.map_diag(sns.kdeplot, lw=3);"
   ],
   "outputs": [
    {
     "data": {
      "text/plain": [
       "<Figure size 1000x1000 with 20 Axes>"
      ],
      "image/png": "[encoded data removed]"
     },
     "metadata": {},
     "output_type": "display_data"
    }
   ],
   "execution_count": 60
  },
  {
   "cell_type": "markdown",
   "metadata": {},
   "source": [
    "Для каждой характеристики цветка и каждого типа цветка проверьте с помощью <a href=\"https://miptstats.github.io/courses/mathstat_bmhf/seminar3.html#Критерий-Шапиро-Уилка\">критерия Шапиро-Уилка</a>, является ли соответствующая выборка нормальной с уровнем значимости $\\alpha=0.05$. Всего нужно совешить 12 проверок (4 характеристики, 3 типа). Например, нужно проверить, является ли выборка `df[df['species'] == 'virginica']['sepal_length']` нормальной."
   ]
  },
  {
   "metadata": {
    "ExecuteTime": {
     "end_time": "2024-05-15T18:59:13.184869Z",
     "start_time": "2024-05-15T18:59:13.179385Z"
    }
   },
   "cell_type": "code",
   "source": "np.array(df.columns)",
   "outputs": [
    {
     "data": {
      "text/plain": [
       "array(['sepal_length', 'sepal_width', 'petal_length', 'petal_width',\n",
       "       'species'], dtype=object)"
      ]
     },
     "execution_count": 34,
     "metadata": {},
     "output_type": "execute_result"
    }
   ],
   "execution_count": 34
  },
  {
   "metadata": {
    "ExecuteTime": {
     "end_time": "2024-05-15T18:59:02.399589Z",
     "start_time": "2024-05-15T18:59:02.393398Z"
    }
   },
   "cell_type": "code",
   "source": "np.array(np.unique(df.species))",
   "outputs": [
    {
     "data": {
      "text/plain": [
       "array(['setosa', 'versicolor', 'virginica'], dtype=object)"
      ]
     },
     "execution_count": 33,
     "metadata": {},
     "output_type": "execute_result"
    }
   ],
   "execution_count": 33
  },
  {
   "metadata": {
    "ExecuteTime": {
     "end_time": "2024-05-15T19:26:12.325730Z",
     "start_time": "2024-05-15T19:26:12.309277Z"
    }
   },
   "cell_type": "code",
   "source": [
    "for species in ['virginica', 'setosa', 'versicolor']:\n",
    "    for feature in ['sepal_length', 'sepal_width', 'petal_length', 'petal_width']:\n",
    "        print('specie: ', species, '\\t feature: ', feature)\n",
    "        print(sps.shapiro(df[df['species'] == species][feature]))\n",
    "        if sps.shapiro(df[df['species'] == species][feature])[1] < 0.05:\n",
    "            print('Reject the hypothesis of sample normality')\n",
    "        print('\\n')"
   ],
   "outputs": [
    {
     "name": "stdout",
     "output_type": "stream",
     "text": [
      "specie:  virginica \t feature:  sepal_length\n",
      "ShapiroResult(statistic=0.9711793661117554, pvalue=0.25831347703933716)\n",
      "\n",
      "\n",
      "specie:  virginica \t feature:  sepal_width\n",
      "ShapiroResult(statistic=0.9673907160758972, pvalue=0.18089871108531952)\n",
      "\n",
      "\n",
      "specie:  virginica \t feature:  petal_length\n",
      "ShapiroResult(statistic=0.9621864557266235, pvalue=0.10977503657341003)\n",
      "\n",
      "\n",
      "specie:  virginica \t feature:  petal_width\n",
      "ShapiroResult(statistic=0.9597713351249695, pvalue=0.08695302903652191)\n",
      "\n",
      "\n",
      "specie:  setosa \t feature:  sepal_length\n",
      "ShapiroResult(statistic=0.9776982069015503, pvalue=0.4595010578632355)\n",
      "\n",
      "\n",
      "specie:  setosa \t feature:  sepal_width\n",
      "ShapiroResult(statistic=0.971718966960907, pvalue=0.2715126574039459)\n",
      "\n",
      "\n",
      "specie:  setosa \t feature:  petal_length\n",
      "ShapiroResult(statistic=0.9549767971038818, pvalue=0.05481128394603729)\n",
      "\n",
      "\n",
      "specie:  setosa \t feature:  petal_width\n",
      "ShapiroResult(statistic=0.7997646331787109, pvalue=8.658606134304137e-07)\n",
      "Reject the hypothesis of sample normality\n",
      "\n",
      "\n",
      "specie:  versicolor \t feature:  sepal_length\n",
      "ShapiroResult(statistic=0.9778357148170471, pvalue=0.4647378921508789)\n",
      "\n",
      "\n",
      "specie:  versicolor \t feature:  sepal_width\n",
      "ShapiroResult(statistic=0.9741329550743103, pvalue=0.3379843533039093)\n",
      "\n",
      "\n",
      "specie:  versicolor \t feature:  petal_length\n",
      "ShapiroResult(statistic=0.9660043120384216, pvalue=0.1584763377904892)\n",
      "\n",
      "\n",
      "specie:  versicolor \t feature:  petal_width\n",
      "ShapiroResult(statistic=0.947626531124115, pvalue=0.027278218418359756)\n",
      "Reject the hypothesis of sample normality\n",
      "\n",
      "\n"
     ]
    }
   ],
   "execution_count": 55
  },
  {
   "metadata": {},
   "cell_type": "markdown",
   "source": [
    "Отвергли гипотезы нормальности для: \n",
    "\n",
    "specie:  setosa \t feature:  petal_width\n",
    "\n",
    "и\n",
    "\n",
    "specie:  versicolor \t feature:  petal_width\n"
   ]
  },
  {
   "cell_type": "markdown",
   "metadata": {},
   "source": [
    "Теперь для каждой характеристики для всех пар типов цветка проверьте с уровнем значимости $\\alpha=0.05$, отличаются ли значения данной харатеристики для этих типов цветков (см. <a href=\"https://miptstats.github.io/courses/mathstat_bmhf/seminar3_presentation.pdf\">презентацию с семинара</a>). Если для обеих выборок нормальность выше не отверглась, используйте <a href=\"https://miptstats.github.io/courses/mathstat_bmhf/seminar3.html#T-критерий-Стьюдента-—-независимые-выборки\">критерий Стьюдента</a>, иначе пользуйтесь <a href=\"https://miptstats.github.io/courses/mathstat_bmhf/seminar3.html#Критерий-Смирнова\">критерием Смирнова</a>. Например, нужно проверить, отличаются ли распределения выборкок `df[df['species'] == 'setosa']['sepal_length']` и `df[df['species'] == 'virginica']['sepal_length']`.\n",
    "\n",
    "*Замечание*. Для применения критерия Стьюдента было бы правильнее предварительно проверить, что дисперсии выборок совпадает, но в данном задании это можно не делать."
   ]
  },
  {
   "cell_type": "code",
   "metadata": {
    "ExecuteTime": {
     "end_time": "2024-05-15T19:33:36.403080Z",
     "start_time": "2024-05-15T19:33:36.373132Z"
    }
   },
   "source": [
    "species = ['virginica', 'setosa', 'versicolor']\n",
    "samples = np.zeros((3, 50))\n",
    "for feature in ['sepal_length', 'sepal_width', 'petal_length', 'petal_width']:\n",
    "    for i in range(3):\n",
    "        samples[i] = df[df['species'] == species[i]][feature]\n",
    "    \n",
    "    if feature == 'petal_length':\n",
    "        for i in range(3):\n",
    "            for j in range(i+1, 3):\n",
    "                print('species: ', species[i], ',', species[j], '\\t feature:  petal_length')\n",
    "                print(sps.ks_2samp(samples[i], samples[j]))\n",
    "                if sps.ks_2samp(samples[i], samples[j])[1] < 0.05:\n",
    "                    print('Reject the hypothesis of distributions equality by Smirnov\\'s test')\n",
    "                print('\\n')\n",
    "    else:\n",
    "        for i in range(3):\n",
    "            for j in range(i+1, 3):\n",
    "                print('species: ', species[i], ',', species[j], '\\t feature: ', feature)\n",
    "                print(sps.ttest_ind(samples[i], samples[j]))\n",
    "                if sps.ttest_ind(samples[i], samples[j])[1] < 0.05:\n",
    "                    print('Reject the hypothesis of loc parameter by Student\\'s test ')\n",
    "                print('\\n')\n",
    "                    \n",
    "    print('\\n')"
   ],
   "outputs": [
    {
     "name": "stdout",
     "output_type": "stream",
     "text": [
      "species:  virginica , setosa \t feature:  sepal_length\n",
      "TtestResult(statistic=15.386195820079404, pvalue=6.892546060674059e-28, df=98.0)\n",
      "Reject the hypothesis of loc parameter by Student's test \n",
      "\n",
      "\n",
      "species:  virginica , versicolor \t feature:  sepal_length\n",
      "TtestResult(statistic=5.629165259719801, pvalue=1.7248563024547942e-07, df=98.0)\n",
      "Reject the hypothesis of loc parameter by Student's test \n",
      "\n",
      "\n",
      "species:  setosa , versicolor \t feature:  sepal_length\n",
      "TtestResult(statistic=-10.52098626754911, pvalue=8.985235037487079e-18, df=98.0)\n",
      "Reject the hypothesis of loc parameter by Student's test \n",
      "\n",
      "\n",
      "\n",
      "\n",
      "species:  virginica , setosa \t feature:  sepal_width\n",
      "TtestResult(statistic=-6.45034908963073, pvalue=4.2463553818449584e-09, df=98.0)\n",
      "Reject the hypothesis of loc parameter by Student's test \n",
      "\n",
      "\n",
      "species:  virginica , versicolor \t feature:  sepal_width\n",
      "TtestResult(statistic=3.2057607502218186, pvalue=0.0018191004238894803, df=98.0)\n",
      "Reject the hypothesis of loc parameter by Student's test \n",
      "\n",
      "\n",
      "species:  setosa , versicolor \t feature:  sepal_width\n",
      "TtestResult(statistic=9.454975848128596, pvalue=1.8452599454769322e-15, df=98.0)\n",
      "Reject the hypothesis of loc parameter by Student's test \n",
      "\n",
      "\n",
      "\n",
      "\n",
      "species:  virginica , setosa \t feature:  petal_length\n",
      "KstestResult(statistic=1.0, pvalue=1.9823306042836678e-29, statistic_location=1.9, statistic_sign=-1)\n",
      "Reject the hypothesis of distributions equality by Smirnov's test\n",
      "\n",
      "\n",
      "species:  virginica , versicolor \t feature:  petal_length\n",
      "KstestResult(statistic=0.86, pvalue=3.173227767377155e-19, statistic_location=4.8, statistic_sign=-1)\n",
      "Reject the hypothesis of distributions equality by Smirnov's test\n",
      "\n",
      "\n",
      "species:  setosa , versicolor \t feature:  petal_length\n",
      "KstestResult(statistic=1.0, pvalue=1.9823306042836678e-29, statistic_location=1.9, statistic_sign=1)\n",
      "Reject the hypothesis of distributions equality by Smirnov's test\n",
      "\n",
      "\n",
      "\n",
      "\n",
      "species:  virginica , setosa \t feature:  petal_width\n",
      "TtestResult(statistic=42.7857975196172, pvalue=3.2303748184318025e-65, df=98.0)\n",
      "Reject the hypothesis of loc parameter by Student's test \n",
      "\n",
      "\n",
      "species:  virginica , versicolor \t feature:  petal_width\n",
      "TtestResult(statistic=14.625367047410148, pvalue=2.2304090710248333e-26, df=98.0)\n",
      "Reject the hypothesis of loc parameter by Student's test \n",
      "\n",
      "\n",
      "species:  setosa , versicolor \t feature:  petal_width\n",
      "TtestResult(statistic=-34.08034154357719, pvalue=3.831095388248162e-56, df=98.0)\n",
      "Reject the hypothesis of loc parameter by Student's test \n",
      "\n",
      "\n",
      "\n",
      "\n"
     ]
    }
   ],
   "execution_count": 58
  },
  {
   "cell_type": "markdown",
   "metadata": {},
   "source": "**Вывод:**"
  },
  {
   "metadata": {},
   "cell_type": "markdown",
   "source": [
    "Отвергли гипотезу совпадения параметров среднего критерием Стьюдента для всех пар выборок с с признаками кроме petal_length(в этом случае мы уже отвергли гипотезу о нормальности критерием Шапиро-Уилка).\n",
    "Отвергли гипотезу совпадения функций распределения критерием Смирнова для пар выборок с признаком petal_length."
   ]
  },
  {
   "metadata": {},
   "cell_type": "markdown",
   "source": ""
  },
  {
   "cell_type": "markdown",
   "metadata": {
    "deletable": false,
    "editable": false,
    "nbgrader": {
     "cell_type": "markdown",
     "checksum": "55e59510deec8dbf1ac10d55894749eb",
     "grade": false,
     "grade_id": "cell-b818da01445b4160",
     "locked": true,
     "points": 5,
     "schema_version": 3,
     "solution": false,
     "task": true
    }
   },
   "source": [
    "__________________\n",
    "### Задача 6\n",
    "\n",
    "Сколько проверок статистических гипотез пришлось совершить в предыдущей задачи?"
   ]
  },
  {
   "cell_type": "markdown",
   "metadata": {},
   "source": "Всего пар из различных типов $C_3^2 = 3$. Признаков всего 4. Итого, 12 проверки."
  },
  {
   "cell_type": "markdown",
   "metadata": {},
   "source": [
    "Каким числом ограничена вероятность ошибки первого рода в каждой проверке?"
   ]
  },
  {
   "cell_type": "markdown",
   "metadata": {},
   "source": [
    "<...>"
   ]
  },
  {
   "cell_type": "markdown",
   "metadata": {},
   "source": [
    "Такую ошибку мы могли совершить в каждой проверке. Вероятность совершения хотя бы одной ошибки первого рода среди всех проверок не превосходит произведения указанных вами чисел. Но нам хотелось бы, чтобы вероятность совершения хотя бы одной ошибки первого рода не превосходила $\\alpha=0.05$. Можете ли вы предложить решение данной проблемы?"
   ]
  },
  {
   "cell_type": "markdown",
   "metadata": {},
   "source": [
    "<...>"
   ]
  },
  {
   "cell_type": "markdown",
   "metadata": {},
   "source": [
    "Реализуйте этот способ для предыдущей задачи"
   ]
  },
  {
   "cell_type": "code",
   "metadata": {},
   "source": [
    "<...>"
   ],
   "outputs": [],
   "execution_count": null
  },
  {
   "cell_type": "markdown",
   "metadata": {},
   "source": [
    "***Вывод:** <...>"
   ]
  }
 ],
 "metadata": {
  "kernelspec": {
   "display_name": "Python 3 (ipykernel)",
   "language": "python",
   "name": "python3"
  },
  "language_info": {
   "codemirror_mode": {
    "name": "ipython",
    "version": 3
   },
   "file_extension": ".py",
   "mimetype": "text/x-python",
   "name": "python",
   "nbconvert_exporter": "python",
   "pygments_lexer": "ipython3",
   "version": "3.12.0"
  }
 },
 "nbformat": 4,
 "nbformat_minor": 4
}
