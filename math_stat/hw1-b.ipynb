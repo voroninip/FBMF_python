{
 "cells": [
  {
   "cell_type": "markdown",
   "metadata": {},
   "source": [
    "# <a href=\"https://miptstats.github.io/courses/mathstat_bmhf.html\">Математическая статистика (ФБМФ, ФМХФ)</a>\n",
    "## Домашнее задание 1 &mdash; часть B\n",
    "\n",
    "**Правила, <font color=\"red\">прочитайте внимательно</font>:**\n",
    "\n",
    "* Выполненную работу нужно отправить телеграм-боту `@miptstats_st_bot`. Для начала работы с ботом каждый раз отправляйте `/start`. Дождитесь подтверждения от бота, что он принял файл. Если подтверждения нет, то что-то не так. **Работы, присланные иным способом, не принимаются.**\n",
    "* Дедлайн см. в боте. После дедлайна работы не принимаются **вообще никак**, кроме случаев наличия уважительной причины.\n",
    "* До дедлайна можно поменять решение любое количество раз. Начинайте точно так же сдавать задание, бот подскажет.\n",
    "* Любую уважительную причину нужно подтвердить документально, отправив скан или фото боту. При этом работу можно сдать позже на столько дней, на сколько время ее действия пересекается с временем выполнения задания.\n",
    "* **По задаче 4** необходимо отправить **фото** в хорошем качестве (почерк, масштаб, освещенность, ориентация и т.д.). Фото плохого качества могут быть проигнорированы. Не LaTeX-формулы.\n",
    "* **По задачам 5, 6** необходимо отправить **ноутбук в формате `ipynb` с выполненным кодом**. Другие форматы не принимаются.\n",
    "* Выполнять задание необходимо **полностью самостоятельно**. При обнаружении списывания **все участники списывания будут сдавать устный зачет.**\n",
    "* Решения, размещенные на каких-либо интернет-ресурсах не принимаются. Кроме того, публикация решения в открытом доступе может быть приравнена к предоставлении возможности списать.\n",
    "* Простой или основной уровень вы выбираете самостоятельно, выполняя или не выполняя задания типа B. При выборе **простого уровня** достаточно выполнить задания *типа A*. При выборе **основного уровня** нужно выполнять *как задания типа A, так и задания типа B*.\n",
    "* Для выполнения задания используйте этот ноутбук в качествие основы, ничего не удаляя из него. Можно добавлять необходимое количество ячеек. Ячейки с assert'ами **удалять и изменять нельзя**, в противном случае соответствующее задание не будет оценено.\n",
    "* Комментарии к решению пишите в markdown-ячейках.\n",
    "* Никакой код из данного задания при проверке запускаться не будет. **Если код студента не выполнен, недописан и т.д., то он не оценивается.**\n",
    "* Каждая задача стоит **5 баллов**.\n",
    "\n",
    "_Замечание: перед выполнением задания можно ознакомиться с <a href=\"https://miptstats.github.io/courses/mathstat_bmhf/seminar2.html\">ноутбуком с семинара</a>._"
   ],
   "id": "2cfd75dbe7fe0bc8"
  },
  {
   "cell_type": "code",
   "metadata": {
    "ExecuteTime": {
     "end_time": "2024-04-19T23:38:31.560621Z",
     "start_time": "2024-04-19T23:38:31.555260Z"
    }
   },
   "source": [
    "# Bot check\n",
    "\n",
    "# HW_ID: st_1b\n",
    "# Бот проверит этот ID и предупредит, если случайно сдать что-то не то.\n",
    "\n",
    "# Status: not final\n",
    "# Перед отправкой в финальном решении удали \"not\" в строчке выше.\n",
    "# Так бот проверит, что ты отправляешь финальную версию, а не промежуточную.\n",
    "# Никакие значения в этой ячейке не влияют на факт сдачи работы."
   ],
   "id": "5bc9d8c1dd8eb26d",
   "outputs": [],
   "execution_count": 2
  },
  {
   "cell_type": "code",
   "metadata": {
    "ExecuteTime": {
     "end_time": "2024-04-19T23:38:33.021170Z",
     "start_time": "2024-04-19T23:38:31.565697Z"
    }
   },
   "source": [
    "import numpy as np\n",
    "import scipy.stats as sps\n",
    "import matplotlib.pyplot as plt\n",
    "from scipy.special import factorial, gammaln"
   ],
   "id": "b124310610d0b35b",
   "outputs": [],
   "execution_count": 3
  },
  {
   "cell_type": "markdown",
   "metadata": {
    "deletable": false,
    "editable": false,
    "nbgrader": {
     "cell_type": "markdown",
     "checksum": "99c6d76a3ba1fbf426e4c533e36562b4",
     "grade": false,
     "grade_id": "cell-6cc977056cc80f3e",
     "locked": true,
     "points": 5,
     "schema_version": 3,
     "solution": false,
     "task": true
    }
   },
   "source": [
    "### Задача 4\n",
    "\n",
    "Оценку $\\theta$ из задания 1.1 и оценку $a$ из задания 1.2 проверьте на несмещённость и состоятельность.\n",
    "\n",
    "_Замечание: делайте необходимые пояснения по ходу доказательства._"
   ],
   "id": "3cec1daee24f11a6"
  },
  {
   "metadata": {},
   "cell_type": "markdown",
   "source": "### Утверждение:",
   "id": "686f66fa827eb766"
  },
  {
   "metadata": {},
   "cell_type": "markdown",
   "source": "Выборочное среднее $\\overline{X}$ является несмещенной и состоятельной оценкой для теоретического среднего (математического ожидания)",
   "id": "81c530c56767b790"
  },
  {
   "metadata": {},
   "cell_type": "markdown",
   "source": "### Доказательство:",
   "id": "91d298c804c942c4"
  },
  {
   "metadata": {},
   "cell_type": "markdown",
   "source": [
    "Несмещённость:\n",
    "$$\\mathbb{E}{\\overline{X}} = \\mathbb{E}{\\left(\\frac{1}{n}\\sum_{i=1}^n X_i\\right)} = \\frac{1}{n} \\cdot \\mathbb{E}\\left(\\sum_{i=1}^n\\right) X_i = \\mathbb{E}X_i$$\n",
    "Состоятельность:\n",
    "Согласно ЗБЧ в форме Хинчина \n",
    "$$\\overline{X} = \\frac{1}{n}\\sum_{i=1}^n X_i \\overset{P}{\\longrightarrow} \\mathbb{E}X_i \\quad \\blacksquare$$"
   ],
   "id": "dc085e5f001723d1"
  },
  {
   "cell_type": "markdown",
   "metadata": {
    "deletable": false,
    "editable": false,
    "nbgrader": {
     "cell_type": "markdown",
     "checksum": "9bf2d7e4b97f1d8a6adefedba52428d3",
     "grade": false,
     "grade_id": "cell-ff33d58641889e34",
     "locked": true,
     "points": 5,
     "schema_version": 3,
     "solution": false,
     "task": true
    }
   },
   "source": [
    "__________________\n",
    "### Задача 5\n",
    "\n",
    "Загрузите данные об экспрессии гена FAM129A из файла `FAM129A.txt` с помощью функции `np.loadtxt`. Постройте гистограмму функцией `plt.hist`, указав в параметре `bins` оптимальное количество разбиений."
   ],
   "id": "f16354e589c6cc61"
  },
  {
   "cell_type": "code",
   "metadata": {
    "ExecuteTime": {
     "end_time": "2024-04-20T01:53:59.178736Z",
     "start_time": "2024-04-20T01:53:59.169914Z"
    }
   },
   "source": [
    "import pandas as pd\n",
    "\n",
    "data = np.loadtxt('FAM129A.txt')\n",
    "data = pd.DataFrame(data)"
   ],
   "id": "d6d31ba2c6951e61",
   "outputs": [],
   "execution_count": 324
  },
  {
   "metadata": {
    "ExecuteTime": {
     "end_time": "2024-04-20T01:53:59.814519Z",
     "start_time": "2024-04-20T01:53:59.806118Z"
    }
   },
   "cell_type": "code",
   "source": "data",
   "id": "2d52e9f89ecb28a2",
   "outputs": [
    {
     "data": {
      "text/plain": [
       "             0\n",
       "0       5663.0\n",
       "1       7016.0\n",
       "2       7952.0\n",
       "3      13862.0\n",
       "4       4746.0\n",
       "...        ...\n",
       "11683    414.0\n",
       "11684   1404.0\n",
       "11685  23674.0\n",
       "11686   1419.0\n",
       "11687   2829.0\n",
       "\n",
       "[11688 rows x 1 columns]"
      ],
      "text/html": [
       "<div>\n",
       "<style scoped>\n",
       "    .dataframe tbody tr th:only-of-type {\n",
       "        vertical-align: middle;\n",
       "    }\n",
       "\n",
       "    .dataframe tbody tr th {\n",
       "        vertical-align: top;\n",
       "    }\n",
       "\n",
       "    .dataframe thead th {\n",
       "        text-align: right;\n",
       "    }\n",
       "</style>\n",
       "<table border=\"1\" class=\"dataframe\">\n",
       "  <thead>\n",
       "    <tr style=\"text-align: right;\">\n",
       "      <th></th>\n",
       "      <th>0</th>\n",
       "    </tr>\n",
       "  </thead>\n",
       "  <tbody>\n",
       "    <tr>\n",
       "      <th>0</th>\n",
       "      <td>5663.0</td>\n",
       "    </tr>\n",
       "    <tr>\n",
       "      <th>1</th>\n",
       "      <td>7016.0</td>\n",
       "    </tr>\n",
       "    <tr>\n",
       "      <th>2</th>\n",
       "      <td>7952.0</td>\n",
       "    </tr>\n",
       "    <tr>\n",
       "      <th>3</th>\n",
       "      <td>13862.0</td>\n",
       "    </tr>\n",
       "    <tr>\n",
       "      <th>4</th>\n",
       "      <td>4746.0</td>\n",
       "    </tr>\n",
       "    <tr>\n",
       "      <th>...</th>\n",
       "      <td>...</td>\n",
       "    </tr>\n",
       "    <tr>\n",
       "      <th>11683</th>\n",
       "      <td>414.0</td>\n",
       "    </tr>\n",
       "    <tr>\n",
       "      <th>11684</th>\n",
       "      <td>1404.0</td>\n",
       "    </tr>\n",
       "    <tr>\n",
       "      <th>11685</th>\n",
       "      <td>23674.0</td>\n",
       "    </tr>\n",
       "    <tr>\n",
       "      <th>11686</th>\n",
       "      <td>1419.0</td>\n",
       "    </tr>\n",
       "    <tr>\n",
       "      <th>11687</th>\n",
       "      <td>2829.0</td>\n",
       "    </tr>\n",
       "  </tbody>\n",
       "</table>\n",
       "<p>11688 rows × 1 columns</p>\n",
       "</div>"
      ]
     },
     "execution_count": 325,
     "metadata": {},
     "output_type": "execute_result"
    }
   ],
   "execution_count": 325
  },
  {
   "metadata": {
    "ExecuteTime": {
     "end_time": "2024-04-20T01:55:23.064193Z",
     "start_time": "2024-04-20T01:55:11.615658Z"
    }
   },
   "cell_type": "code",
   "source": [
    "plt.hist(data, bins=10000, density=True)\n",
    "plt.title('Density plot')\n",
    "plt.xlim([0, 40_000]);"
   ],
   "id": "6851272fc3a60944",
   "outputs": [
    {
     "data": {
      "text/plain": [
       "<Figure size 640x480 with 1 Axes>"
      ],
      "image/png": "[encoded data removed]"
     },
     "metadata": {},
     "output_type": "display_data"
    }
   ],
   "execution_count": 334
  },
  {
   "cell_type": "markdown",
   "metadata": {},
   "source": [
    "В предположении, что данные имеют пуассоновское распределение, найдите оценку максимального правдоподобия параметра распределения. Нарисуйте график дискретной плотности полученного распределения и сравните его с гистограммой. Хорошо ли оценка распределения приближает данные?\n",
    "\n",
    "*Примечание:* для работы с распределениями случайных величин удобно пользоваться модулем <a href=\"https://miptstats.github.io/courses/python/07_random.html#2.-Работа-с-библиотекой-scipy.stats.\">scipy.stats</a>."
   ],
   "id": "18fe2e0b00804664"
  },
  {
   "metadata": {},
   "cell_type": "markdown",
   "source": "Знаем, что выборочное среднее является несмещённой и состоятельной оценкой матожидания.",
   "id": "7f81a9aef23fdaf3"
  },
  {
   "metadata": {
    "ExecuteTime": {
     "end_time": "2024-04-20T01:54:13.380446Z",
     "start_time": "2024-04-20T01:54:13.374863Z"
    }
   },
   "cell_type": "code",
   "source": [
    "sample = np.array(data)\n",
    "np.mean(sample)"
   ],
   "id": "40478bbf06f235cc",
   "outputs": [
    {
     "data": {
      "text/plain": [
       "10034.47852498289"
      ]
     },
     "execution_count": 327,
     "metadata": {},
     "output_type": "execute_result"
    }
   ],
   "execution_count": 327
  },
  {
   "metadata": {},
   "cell_type": "markdown",
   "source": "Посмотрим на $argmax(L(\\theta|x))$",
   "id": "437c7553bd04260e"
  },
  {
   "metadata": {
    "ExecuteTime": {
     "end_time": "2024-04-20T01:54:13.385759Z",
     "start_time": "2024-04-20T01:54:13.381444Z"
    }
   },
   "cell_type": "code",
   "source": "grid = np.linspace(0, 50000, 1000)",
   "id": "5b3edec10074dfa",
   "outputs": [],
   "execution_count": 328
  },
  {
   "metadata": {
    "ExecuteTime": {
     "end_time": "2024-04-20T01:54:13.955783Z",
     "start_time": "2024-04-20T01:54:13.386759Z"
    }
   },
   "cell_type": "code",
   "source": [
    "theta = grid[np.argmax(sps.poisson.logpmf(sample.reshape((1, -1)), mu=grid.reshape((-1, 1))).sum(axis=1))]\n",
    "theta"
   ],
   "id": "ec776516d5b3dfed",
   "outputs": [
    {
     "data": {
      "text/plain": [
       "10010.01001001001"
      ]
     },
     "execution_count": 329,
     "metadata": {},
     "output_type": "execute_result"
    }
   ],
   "execution_count": 329
  },
  {
   "metadata": {
    "ExecuteTime": {
     "end_time": "2024-04-20T01:54:14.543837Z",
     "start_time": "2024-04-20T01:54:13.957782Z"
    }
   },
   "cell_type": "code",
   "source": "maxllf = np.max(sps.poisson.logpmf(sample.reshape((1, -1)), mu=grid.reshape((-1, 1))).sum(axis=1))",
   "id": "a39768e52af2d37",
   "outputs": [],
   "execution_count": 330
  },
  {
   "metadata": {
    "ExecuteTime": {
     "end_time": "2024-04-20T01:54:15.717150Z",
     "start_time": "2024-04-20T01:54:14.544831Z"
    }
   },
   "cell_type": "code",
   "source": [
    "plt.figure(figsize=(5, 5))\n",
    "plt.vlines(theta, ymin=-1e9, ymax=0, color='blue', label='$\\widehat{\\\\theta}=%0.f$' %theta)\n",
    "plt.hlines(maxllf, xmin=0, xmax=80_000, label='Maximal loglikelihood value')\n",
    "plt.plot(grid, sps.poisson.logpmf(sample.reshape((1, -1)), mu=grid.reshape((-1, 1))).sum(axis=1), label='Log Likelihood Function', color='red')\n",
    "plt.yscale('asinh')\n",
    "plt.xscale('log')\n",
    "plt.ylim([-1e9, -1e8 + 3e7])\n",
    "plt.legend(loc='lower right');"
   ],
   "id": "91fa2306dbafc1a0",
   "outputs": [
    {
     "data": {
      "text/plain": [
       "<Figure size 500x500 with 1 Axes>"
      ],
      "image/png": "[encoded data removed]"
     },
     "metadata": {},
     "output_type": "display_data"
    }
   ],
   "execution_count": 331
  },
  {
   "metadata": {
    "ExecuteTime": {
     "end_time": "2024-04-20T01:59:40.798946Z",
     "start_time": "2024-04-20T01:59:40.643805Z"
    }
   },
   "cell_type": "code",
   "source": [
    "x = np.arange(0, 40_000, 1000)\n",
    "y = sps.poisson.pmf(x, mu=theta)\n",
    "plt.plot(x, y);"
   ],
   "id": "9ca3b99284753090",
   "outputs": [
    {
     "data": {
      "text/plain": [
       "<Figure size 640x480 with 1 Axes>"
      ],
      "image/png": "[encoded data removed]"
     },
     "metadata": {},
     "output_type": "display_data"
    }
   ],
   "execution_count": 350
  },
  {
   "cell_type": "markdown",
   "metadata": {
    "deletable": false,
    "editable": false,
    "nbgrader": {
     "cell_type": "markdown",
     "checksum": "b04f187c8f440cd3727c6f079e4d30fc",
     "grade": false,
     "grade_id": "cell-39419c5659d122ff",
     "locked": true,
     "points": 5,
     "schema_version": 3,
     "solution": false,
     "task": true
    }
   },
   "source": [
    "__________________\n",
    "### Задача 6\n",
    "Пусть $X_1, ..., X_n$ &mdash; выборка из распределения $U[0, \\theta]$. Рассмотрим оценки \n",
    "* $2\\overline{X}$, \n",
    "* $(n+1) \\min_i X_i$,\n",
    "* $\\min_i X_i + \\max_i X_i$,\n",
    "* $\\frac{n+1}{n} \\max_i X_i$. \n",
    "\n",
    "Вам необходимо сравнить эти оценки в равномерном подходе с квадратичной и линейной функциями потерь, построив графики функций риска при помощи моделирования.\n",
    "\n",
    "Для каждого $\\theta \\in (0, 2]$ с шагом $0.01$ сгенерируйте $5000$ независимых выборок $X^1=\\left(X^1_1, \\dots, X^1_{100} \\right), \\dots, X^{5000} = \\left(X^{5000}_1, \\dots, X^{5000}_{100} \\right)$ из распределения $U[0, \\theta]$.\n",
    "\n",
    "(см. <a href=\"https://miptstats.github.io/courses/mathstat_bmhf/seminar2.html#Задача-2.\">пример с семинара</a>)\n",
    "\n",
    "Рассмотрим одну из перечисленных выше оценок $\\widehat{\\theta}$. Посчитайте ее значение по каждой выборке. Тем самым, для данного $\\theta$ получится $5000$ реализаций этой оценки $\\widehat{\\theta}_1, ..., \\widehat{\\theta}_{5000}$, где значение $\\widehat{\\theta}_j$ посчитано по реализации выборки $X^j$.\n",
    "\n",
    "Теперь можно оценить функцию риска этой оценки с помощью усреднения\n",
    "$$\\widehat{R}_{\\widehat{\\theta}}(\\theta) = \\frac{1}{5000}\\sum\\limits_{j=1}^{5000} L\\left(\\widehat{\\theta}_j, \\theta\\right),$$\n",
    "где $L$ &mdash; одна из двух функций потерь: квадратичная $L(x, y)=(x-y)^2$ и линейная $L(x, y)=\\left|x-y\\right|$.\n",
    "\n",
    "Для каждого из типов функций потерь постройте свой график. Нанесите на этот график для каждой из четырех оценок $\\widehat{\\theta}$ оценку функции потерь $\\widehat{R}_{\\widehat{\\theta}}(\\theta)$, пользуясь шаблоном ниже. Ограничение сверху по оси *y* ставьте таким, чтобы графики функции риска с малыми значениями четко различались.\n",
    "\n",
    "*Совет*: при тестировании кода запускайте его с небольшими размерами данных. Например, используйте 100 реализаций выборок. Финальные результаты получите, поставив требуемые значения размеров данных.\n",
    "\n",
    "В задаче допустимо использовать короткие циклы, то есть с малым количествои итераций."
   ],
   "id": "23b0b2d27c72d98"
  },
  {
   "cell_type": "code",
   "metadata": {},
   "source": [
    "plt.plot(<сетка по параметру>, <функция риска>,\n",
    "         label=<latex-метка>)  # для каждой оценки\n",
    "plt.grid(ls=':')\n",
    "plt.xlabel('$\\\\theta$', fontsize=16)\n",
    "plt.ylabel('$\\\\widehat{R}_{\\\\widehat{\\\\theta}}(\\\\theta)$', fontsize=16)\n",
    "plt.legend(fontsize=14)\n",
    "plt.title(<тип функции потерь>, fontsize=16)\n",
    "plt.ylim((0, <ограничение сверху>))"
   ],
   "id": "d8dc6cb2142c5814",
   "outputs": [],
   "execution_count": null
  },
  {
   "cell_type": "markdown",
   "metadata": {},
   "source": [
    "**Решение:**"
   ],
   "id": "7d2da2b8aef4272b"
  },
  {
   "cell_type": "code",
   "metadata": {},
   "source": [
    "<...>"
   ],
   "id": "ba91f9633f218b27",
   "outputs": [],
   "execution_count": null
  },
  {
   "cell_type": "markdown",
   "metadata": {},
   "source": [
    "Сделайте вывод о том, какая оценка лучше и в каком подходе.\n",
    "\n",
    "**Вывод:** <...>"
   ],
   "id": "8d79269d8db4e0dd"
  }
 ],
 "metadata": {
  "kernelspec": {
   "display_name": "Python 3",
   "language": "python",
   "name": "python3"
  },
  "language_info": {
   "codemirror_mode": {
    "name": "ipython",
    "version": 3
   },
   "file_extension": ".py",
   "mimetype": "text/x-python",
   "name": "python",
   "nbconvert_exporter": "python",
   "pygments_lexer": "ipython3",
   "version": "3.8.10"
  }
 },
 "nbformat": 4,
 "nbformat_minor": 5
}
