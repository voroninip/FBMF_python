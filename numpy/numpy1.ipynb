{
 "cells": [
  {
   "cell_type": "code",
   "id": "initial_id",
   "metadata": {
    "collapsed": true,
    "ExecuteTime": {
     "end_time": "2024-07-04T17:41:00.114460Z",
     "start_time": "2024-07-04T17:40:59.996563Z"
    }
   },
   "source": [
    "import numpy as np"
   ],
   "outputs": [],
   "execution_count": 1
  },
  {
   "cell_type": "markdown",
   "source": [
    "### 1. Создайте вектор с элементами от 12 до 42"
   ],
   "metadata": {
    "collapsed": false
   },
   "id": "126679a740391917"
  },
  {
   "cell_type": "code",
   "source": [
    "vector1 = np.arange(12, 43)\n",
    "vector1"
   ],
   "metadata": {
    "collapsed": false,
    "ExecuteTime": {
     "end_time": "2024-07-04T17:41:00.122470Z",
     "start_time": "2024-07-04T17:41:00.115458Z"
    }
   },
   "id": "a60051291334ae49",
   "outputs": [
    {
     "data": {
      "text/plain": [
       "array([12, 13, 14, 15, 16, 17, 18, 19, 20, 21, 22, 23, 24, 25, 26, 27, 28,\n",
       "       29, 30, 31, 32, 33, 34, 35, 36, 37, 38, 39, 40, 41, 42])"
      ]
     },
     "execution_count": 2,
     "metadata": {},
     "output_type": "execute_result"
    }
   ],
   "execution_count": 2
  },
  {
   "cell_type": "markdown",
   "source": [
    "### 2. Создайте вектор из нулей длины 12, но его пятый элемент должен быть равен 1"
   ],
   "metadata": {
    "collapsed": false
   },
   "id": "78e356675036d018"
  },
  {
   "cell_type": "code",
   "source": [
    "vector2 = np.zeros(12)\n",
    "vector2[4] = 1\n",
    "vector2"
   ],
   "metadata": {
    "collapsed": false,
    "ExecuteTime": {
     "end_time": "2024-07-04T17:41:00.132856Z",
     "start_time": "2024-07-04T17:41:00.123491Z"
    }
   },
   "id": "82a89745ac729e0e",
   "outputs": [
    {
     "data": {
      "text/plain": [
       "array([0., 0., 0., 0., 1., 0., 0., 0., 0., 0., 0., 0.])"
      ]
     },
     "execution_count": 3,
     "metadata": {},
     "output_type": "execute_result"
    }
   ],
   "execution_count": 3
  },
  {
   "cell_type": "markdown",
   "source": [
    "### 3. Создайте матрицу (3, 3), заполненную от 0 до 8"
   ],
   "metadata": {
    "collapsed": false
   },
   "id": "64dfae39c1ab1974"
  },
  {
   "cell_type": "code",
   "source": [
    "matrix = np.arange(9).reshape(3, 3)\n",
    "matrix"
   ],
   "metadata": {
    "collapsed": false,
    "ExecuteTime": {
     "end_time": "2024-07-04T17:41:00.138856Z",
     "start_time": "2024-07-04T17:41:00.133857Z"
    }
   },
   "id": "685204ccccbcd92e",
   "outputs": [
    {
     "data": {
      "text/plain": [
       "array([[0, 1, 2],\n",
       "       [3, 4, 5],\n",
       "       [6, 7, 8]])"
      ]
     },
     "execution_count": 4,
     "metadata": {},
     "output_type": "execute_result"
    }
   ],
   "execution_count": 4
  },
  {
   "cell_type": "markdown",
   "source": [
    "### 4. Найдите все положительные числа в np.array([1,2,0,0,4,0])"
   ],
   "metadata": {
    "collapsed": false
   },
   "id": "a84bb7ca8c11ace4"
  },
  {
   "cell_type": "code",
   "source": [
    "array = np.array([1, 2, 0, 0, 4, 0])\n",
    "array[array > 0]"
   ],
   "metadata": {
    "collapsed": false,
    "ExecuteTime": {
     "end_time": "2024-07-04T17:41:00.145859Z",
     "start_time": "2024-07-04T17:41:00.139856Z"
    }
   },
   "id": "3267452ddde3745a",
   "outputs": [
    {
     "data": {
      "text/plain": [
       "array([1, 2, 4])"
      ]
     },
     "execution_count": 5,
     "metadata": {},
     "output_type": "execute_result"
    }
   ],
   "execution_count": 5
  },
  {
   "cell_type": "markdown",
   "source": [
    "### 5. Умножьте матрицу размерности (5, 3) на (3, 2)"
   ],
   "metadata": {
    "collapsed": false
   },
   "id": "3f331fe64e4bf1b1"
  },
  {
   "cell_type": "code",
   "source": [
    "matrix1 = np.random.rand(5, 3)\n",
    "matrix2 = np.random.rand(3, 2)\n",
    "result = np.dot(matrix1, matrix2)\n",
    "result"
   ],
   "metadata": {
    "collapsed": false,
    "ExecuteTime": {
     "end_time": "2024-07-04T17:41:00.161042Z",
     "start_time": "2024-07-04T17:41:00.147857Z"
    }
   },
   "id": "b8db4a67fb4e0943",
   "outputs": [
    {
     "data": {
      "text/plain": [
       "array([[0.32225529, 0.52206904],\n",
       "       [0.81846318, 1.24864464],\n",
       "       [0.69542363, 1.50482053],\n",
       "       [0.54604066, 1.24144588],\n",
       "       [0.87623487, 1.31295677]])"
      ]
     },
     "execution_count": 6,
     "metadata": {},
     "output_type": "execute_result"
    }
   ],
   "execution_count": 6
  },
  {
   "cell_type": "markdown",
   "source": [
    "### 6. Создайте матрицу (10, 10) так, чтобы на границе были 0, а внутри 1"
   ],
   "metadata": {
    "collapsed": false
   },
   "id": "4f6a88a05eba6760"
  },
  {
   "cell_type": "code",
   "source": [
    "matrix_boundary = np.zeros((10, 10))\n",
    "matrix_boundary[1:-1, 1:-1] = 1\n",
    "matrix_boundary"
   ],
   "metadata": {
    "collapsed": false,
    "ExecuteTime": {
     "end_time": "2024-07-04T17:41:00.167413Z",
     "start_time": "2024-07-04T17:41:00.162042Z"
    }
   },
   "id": "33e9564a2bc363e4",
   "outputs": [
    {
     "data": {
      "text/plain": [
       "array([[0., 0., 0., 0., 0., 0., 0., 0., 0., 0.],\n",
       "       [0., 1., 1., 1., 1., 1., 1., 1., 1., 0.],\n",
       "       [0., 1., 1., 1., 1., 1., 1., 1., 1., 0.],\n",
       "       [0., 1., 1., 1., 1., 1., 1., 1., 1., 0.],\n",
       "       [0., 1., 1., 1., 1., 1., 1., 1., 1., 0.],\n",
       "       [0., 1., 1., 1., 1., 1., 1., 1., 1., 0.],\n",
       "       [0., 1., 1., 1., 1., 1., 1., 1., 1., 0.],\n",
       "       [0., 1., 1., 1., 1., 1., 1., 1., 1., 0.],\n",
       "       [0., 1., 1., 1., 1., 1., 1., 1., 1., 0.],\n",
       "       [0., 0., 0., 0., 0., 0., 0., 0., 0., 0.]])"
      ]
     },
     "execution_count": 7,
     "metadata": {},
     "output_type": "execute_result"
    }
   ],
   "execution_count": 7
  },
  {
   "cell_type": "markdown",
   "source": [
    "### 7. Создайте рандомный вектор и отсортируйте его"
   ],
   "metadata": {
    "collapsed": false
   },
   "id": "5176c5ef50533e50"
  },
  {
   "cell_type": "code",
   "source": [
    "random_vector = np.random.rand(10)\n",
    "np.sort(random_vector)"
   ],
   "metadata": {
    "collapsed": false,
    "ExecuteTime": {
     "end_time": "2024-07-04T17:41:00.173757Z",
     "start_time": "2024-07-04T17:41:00.168414Z"
    }
   },
   "id": "6162d443c5dabbaf",
   "outputs": [
    {
     "data": {
      "text/plain": [
       "array([0.00282859, 0.23294829, 0.23555295, 0.40069012, 0.43913217,\n",
       "       0.4444368 , 0.46082149, 0.54951145, 0.62763226, 0.78274228])"
      ]
     },
     "execution_count": 8,
     "metadata": {},
     "output_type": "execute_result"
    }
   ],
   "execution_count": 8
  },
  {
   "cell_type": "markdown",
   "source": [
    "### 8. Каков эквивалент функции enumerate для numpy массивов?"
   ],
   "metadata": {
    "collapsed": false
   },
   "id": "3ba350c84f5b7aaf"
  },
  {
   "cell_type": "code",
   "source": [
    "array = np.array([10, 20, 30, 32, 2, 1])\n",
    "for index, value in np.ndenumerate(array):\n",
    "    print(index, value)"
   ],
   "metadata": {
    "collapsed": false,
    "ExecuteTime": {
     "end_time": "2024-07-04T17:41:00.180691Z",
     "start_time": "2024-07-04T17:41:00.174757Z"
    }
   },
   "id": "708d15f10a169500",
   "outputs": [
    {
     "name": "stdout",
     "output_type": "stream",
     "text": [
      "(0,) 10\n",
      "(1,) 20\n",
      "(2,) 30\n",
      "(3,) 32\n",
      "(4,) 2\n",
      "(5,) 1\n"
     ]
    }
   ],
   "execution_count": 9
  },
  {
   "cell_type": "markdown",
   "source": [
    "### 9. Создайте рандомную матрицу и выполните нормализацию столбцов"
   ],
   "metadata": {
    "collapsed": false
   },
   "id": "1ca087f0fea2372e"
  },
  {
   "cell_type": "code",
   "source": [
    "random_matrix = np.random.rand(5, 3)\n",
    "normalized_matrix = (random_matrix - np.mean(random_matrix, axis=0))\n",
    "normalized_matrix = normalized_matrix / np.std(normalized_matrix, axis=0)\n",
    "normalized_matrix"
   ],
   "metadata": {
    "collapsed": false,
    "ExecuteTime": {
     "end_time": "2024-07-04T17:41:00.188694Z",
     "start_time": "2024-07-04T17:41:00.181688Z"
    }
   },
   "id": "1e8298cc83a005f9",
   "outputs": [
    {
     "data": {
      "text/plain": [
       "array([[-0.20188368, -1.10466309, -0.72526311],\n",
       "       [ 0.51883227, -1.07861564, -1.53283415],\n",
       "       [ 1.09042937,  0.53261919,  0.33387737],\n",
       "       [ 0.4167269 ,  0.12880766,  1.24638771],\n",
       "       [-1.82410486,  1.52185188,  0.67783219]])"
      ]
     },
     "execution_count": 10,
     "metadata": {},
     "output_type": "execute_result"
    }
   ],
   "execution_count": 10
  },
  {
   "cell_type": "markdown",
   "source": [
    "### 10. Для заданного числа найдите ближайший к нему элемент в векторе"
   ],
   "metadata": {
    "collapsed": false
   },
   "id": "83dcfa33ab5576c5"
  },
  {
   "cell_type": "code",
   "source": [
    "number = 0.5\n",
    "vector = np.random.rand(10)\n",
    "print(vector)\n",
    "closest_value = vector[np.abs(vector - number).argmin()]\n",
    "closest_value"
   ],
   "metadata": {
    "collapsed": false,
    "ExecuteTime": {
     "end_time": "2024-07-04T17:41:00.196090Z",
     "start_time": "2024-07-04T17:41:00.189691Z"
    }
   },
   "id": "3cac81d7f3fc36b8",
   "outputs": [
    {
     "name": "stdout",
     "output_type": "stream",
     "text": [
      "[0.8251977  0.89499936 0.17350242 0.26201997 0.65725478 0.87279339\n",
      " 0.42576559 0.47699786 0.9646253  0.48685284]\n"
     ]
    },
    {
     "data": {
      "text/plain": [
       "0.48685284029244835"
      ]
     },
     "execution_count": 11,
     "metadata": {},
     "output_type": "execute_result"
    }
   ],
   "execution_count": 11
  },
  {
   "cell_type": "markdown",
   "source": [
    "### 11. Найдите N наибольших значений в векторе"
   ],
   "metadata": {
    "collapsed": false
   },
   "id": "ad2ea1192cd03c24"
  },
  {
   "cell_type": "code",
   "source": [
    "N = 3\n",
    "vector = np.random.rand(10)\n",
    "print(vector)\n",
    "largest_values = vector[np.argsort(vector)[-N:]]\n",
    "largest_values"
   ],
   "metadata": {
    "collapsed": false,
    "ExecuteTime": {
     "end_time": "2024-07-04T17:41:00.202977Z",
     "start_time": "2024-07-04T17:41:00.197089Z"
    }
   },
   "id": "7481af76dff9b875",
   "outputs": [
    {
     "name": "stdout",
     "output_type": "stream",
     "text": [
      "[0.08268683 0.7380664  0.57159374 0.90137837 0.65938238 0.64141147\n",
      " 0.67578573 0.09683007 0.14258998 0.62327618]\n"
     ]
    },
    {
     "data": {
      "text/plain": [
       "array([0.67578573, 0.7380664 , 0.90137837])"
      ]
     },
     "execution_count": 12,
     "metadata": {},
     "output_type": "execute_result"
    }
   ],
   "execution_count": 12
  }
 ],
 "metadata": {
  "kernelspec": {
   "display_name": "Python 3",
   "language": "python",
   "name": "python3"
  },
  "language_info": {
   "codemirror_mode": {
    "name": "ipython",
    "version": 2
   },
   "file_extension": ".py",
   "mimetype": "text/x-python",
   "name": "python",
   "nbconvert_exporter": "python",
   "pygments_lexer": "ipython2",
   "version": "2.7.6"
  }
 },
 "nbformat": 4,
 "nbformat_minor": 5
}
