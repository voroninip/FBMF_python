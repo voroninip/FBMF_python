{
 "cells": [
  {
   "cell_type": "code",
   "execution_count": 32,
   "id": "initial_id",
   "metadata": {
    "collapsed": true,
    "ExecuteTime": {
     "end_time": "2024-03-07T09:49:01.985425Z",
     "start_time": "2024-03-07T09:49:01.981784Z"
    }
   },
   "outputs": [],
   "source": [
    "import numpy as np"
   ]
  },
  {
   "cell_type": "markdown",
   "source": [
    "### 1. Создайте вектор с элементами от 12 до 42"
   ],
   "metadata": {
    "collapsed": false
   },
   "id": "126679a740391917"
  },
  {
   "cell_type": "code",
   "outputs": [
    {
     "data": {
      "text/plain": "array([12, 13, 14, 15, 16, 17, 18, 19, 20, 21, 22, 23, 24, 25, 26, 27, 28,\n       29, 30, 31, 32, 33, 34, 35, 36, 37, 38, 39, 40, 41, 42])"
     },
     "execution_count": 33,
     "metadata": {},
     "output_type": "execute_result"
    }
   ],
   "source": [
    "vector1 = np.arange(12, 43)\n",
    "vector1"
   ],
   "metadata": {
    "collapsed": false,
    "ExecuteTime": {
     "end_time": "2024-03-07T09:49:02.056902Z",
     "start_time": "2024-03-07T09:49:02.051436Z"
    }
   },
   "id": "a60051291334ae49",
   "execution_count": 33
  },
  {
   "cell_type": "markdown",
   "source": [
    "### 2. Создайте вектор из нулей длины 12, но его пятый элемент должен быть равен 1"
   ],
   "metadata": {
    "collapsed": false
   },
   "id": "78e356675036d018"
  },
  {
   "cell_type": "code",
   "outputs": [
    {
     "data": {
      "text/plain": "array([0., 0., 0., 0., 1., 0., 0., 0., 0., 0., 0., 0.])"
     },
     "execution_count": 34,
     "metadata": {},
     "output_type": "execute_result"
    }
   ],
   "source": [
    "vector2 = np.zeros(12)\n",
    "vector2[4] = 1\n",
    "vector2"
   ],
   "metadata": {
    "collapsed": false,
    "ExecuteTime": {
     "end_time": "2024-03-07T09:49:02.063673Z",
     "start_time": "2024-03-07T09:49:02.058911Z"
    }
   },
   "id": "82a89745ac729e0e",
   "execution_count": 34
  },
  {
   "cell_type": "markdown",
   "source": [
    "### 3. Создайте матрицу (3, 3), заполненную от 0 до 8"
   ],
   "metadata": {
    "collapsed": false
   },
   "id": "64dfae39c1ab1974"
  },
  {
   "cell_type": "code",
   "outputs": [
    {
     "data": {
      "text/plain": "array([[0, 1, 2],\n       [3, 4, 5],\n       [6, 7, 8]])"
     },
     "execution_count": 35,
     "metadata": {},
     "output_type": "execute_result"
    }
   ],
   "source": [
    "matrix = np.arange(9).reshape(3, 3)\n",
    "matrix"
   ],
   "metadata": {
    "collapsed": false,
    "ExecuteTime": {
     "end_time": "2024-03-07T09:49:02.072793Z",
     "start_time": "2024-03-07T09:49:02.067684Z"
    }
   },
   "id": "685204ccccbcd92e",
   "execution_count": 35
  },
  {
   "cell_type": "markdown",
   "source": [
    "### 4. Найдите все положительные числа в np.array([1,2,0,0,4,0])"
   ],
   "metadata": {
    "collapsed": false
   },
   "id": "a84bb7ca8c11ace4"
  },
  {
   "cell_type": "code",
   "outputs": [
    {
     "data": {
      "text/plain": "array([1, 2, 4])"
     },
     "execution_count": 36,
     "metadata": {},
     "output_type": "execute_result"
    }
   ],
   "source": [
    "array = np.array([1, 2, 0, 0, 4, 0])\n",
    "array[array > 0]"
   ],
   "metadata": {
    "collapsed": false,
    "ExecuteTime": {
     "end_time": "2024-03-07T09:49:02.079705Z",
     "start_time": "2024-03-07T09:49:02.074802Z"
    }
   },
   "id": "3267452ddde3745a",
   "execution_count": 36
  },
  {
   "cell_type": "markdown",
   "source": [
    "### 5. Умножьте матрицу размерности (5, 3) на (3, 2)"
   ],
   "metadata": {
    "collapsed": false
   },
   "id": "3f331fe64e4bf1b1"
  },
  {
   "cell_type": "code",
   "outputs": [
    {
     "data": {
      "text/plain": "array([[1.09614556, 0.56583997],\n       [0.91958241, 0.59979755],\n       [1.41570602, 0.72276628],\n       [0.83299979, 0.58002867],\n       [1.14813328, 0.62073447]])"
     },
     "execution_count": 37,
     "metadata": {},
     "output_type": "execute_result"
    }
   ],
   "source": [
    "matrix1 = np.random.rand(5, 3)\n",
    "matrix2 = np.random.rand(3, 2)\n",
    "result = np.dot(matrix1, matrix2)\n",
    "result"
   ],
   "metadata": {
    "collapsed": false,
    "ExecuteTime": {
     "end_time": "2024-03-07T09:49:02.091379Z",
     "start_time": "2024-03-07T09:49:02.082717Z"
    }
   },
   "id": "b8db4a67fb4e0943",
   "execution_count": 37
  },
  {
   "cell_type": "markdown",
   "source": [
    "### 6. Создайте матрицу (10, 10) так, чтобы на границе были 0, а внутри 1"
   ],
   "metadata": {
    "collapsed": false
   },
   "id": "4f6a88a05eba6760"
  },
  {
   "cell_type": "code",
   "outputs": [
    {
     "data": {
      "text/plain": "array([[0., 0., 0., 0., 0., 0., 0., 0., 0., 0.],\n       [0., 1., 1., 1., 1., 1., 1., 1., 1., 0.],\n       [0., 1., 1., 1., 1., 1., 1., 1., 1., 0.],\n       [0., 1., 1., 1., 1., 1., 1., 1., 1., 0.],\n       [0., 1., 1., 1., 1., 1., 1., 1., 1., 0.],\n       [0., 1., 1., 1., 1., 1., 1., 1., 1., 0.],\n       [0., 1., 1., 1., 1., 1., 1., 1., 1., 0.],\n       [0., 1., 1., 1., 1., 1., 1., 1., 1., 0.],\n       [0., 1., 1., 1., 1., 1., 1., 1., 1., 0.],\n       [0., 0., 0., 0., 0., 0., 0., 0., 0., 0.]])"
     },
     "execution_count": 38,
     "metadata": {},
     "output_type": "execute_result"
    }
   ],
   "source": [
    "matrix_boundary = np.zeros((10, 10))\n",
    "matrix_boundary[1:-1, 1:-1] = 1\n",
    "matrix_boundary"
   ],
   "metadata": {
    "collapsed": false,
    "ExecuteTime": {
     "end_time": "2024-03-07T09:49:02.116504Z",
     "start_time": "2024-03-07T09:49:02.110391Z"
    }
   },
   "id": "33e9564a2bc363e4",
   "execution_count": 38
  },
  {
   "cell_type": "markdown",
   "source": [
    "### 7. Создайте рандомный вектор и отсортируйте его"
   ],
   "metadata": {
    "collapsed": false
   },
   "id": "5176c5ef50533e50"
  },
  {
   "cell_type": "code",
   "outputs": [
    {
     "data": {
      "text/plain": "array([0.15892337, 0.34192033, 0.61685516, 0.71714068, 0.7358726 ,\n       0.74008281, 0.74294222, 0.81935649, 0.87086457, 0.93059383])"
     },
     "execution_count": 39,
     "metadata": {},
     "output_type": "execute_result"
    }
   ],
   "source": [
    "random_vector = np.random.rand(10)\n",
    "np.sort(random_vector)"
   ],
   "metadata": {
    "collapsed": false,
    "ExecuteTime": {
     "end_time": "2024-03-07T09:49:02.128788Z",
     "start_time": "2024-03-07T09:49:02.124514Z"
    }
   },
   "id": "6162d443c5dabbaf",
   "execution_count": 39
  },
  {
   "cell_type": "markdown",
   "source": [
    "### 8. Каков эквивалент функции enumerate для numpy массивов?"
   ],
   "metadata": {
    "collapsed": false
   },
   "id": "3ba350c84f5b7aaf"
  },
  {
   "cell_type": "code",
   "outputs": [
    {
     "name": "stdout",
     "output_type": "stream",
     "text": [
      "(0,) 10\n",
      "(1,) 20\n",
      "(2,) 30\n",
      "(3,) 32\n",
      "(4,) 2\n",
      "(5,) 1\n"
     ]
    }
   ],
   "source": [
    "array = np.array([10, 20, 30, 32, 2, 1])\n",
    "for index, value in np.ndenumerate(array):\n",
    "    print(index, value)"
   ],
   "metadata": {
    "collapsed": false,
    "ExecuteTime": {
     "end_time": "2024-03-07T09:49:02.134361Z",
     "start_time": "2024-03-07T09:49:02.129796Z"
    }
   },
   "id": "708d15f10a169500",
   "execution_count": 40
  },
  {
   "cell_type": "markdown",
   "source": [
    "### 9. Создайте рандомную матрицу и выполните нормализацию столбцов"
   ],
   "metadata": {
    "collapsed": false
   },
   "id": "1ca087f0fea2372e"
  },
  {
   "cell_type": "code",
   "outputs": [
    {
     "data": {
      "text/plain": "array([[-0.84495277, -0.62705234,  1.81145698],\n       [ 1.76838   ,  1.43790717, -0.42642864],\n       [-0.288846  ,  0.97338317,  0.14224642],\n       [ 0.3438101 , -0.89279249, -1.1821252 ],\n       [-0.97839133, -0.89144551, -0.34514955]])"
     },
     "execution_count": 41,
     "metadata": {},
     "output_type": "execute_result"
    }
   ],
   "source": [
    "random_matrix = np.random.rand(5, 3)\n",
    "normalized_matrix = (random_matrix - np.mean(random_matrix, axis=0))\n",
    "normalized_matrix = normalized_matrix / np.std(normalized_matrix, axis=0)\n",
    "normalized_matrix"
   ],
   "metadata": {
    "collapsed": false,
    "ExecuteTime": {
     "end_time": "2024-03-07T09:49:02.141831Z",
     "start_time": "2024-03-07T09:49:02.135369Z"
    }
   },
   "id": "1e8298cc83a005f9",
   "execution_count": 41
  },
  {
   "cell_type": "markdown",
   "source": [
    "### 10. Для заданного числа найдите ближайший к нему элемент в векторе"
   ],
   "metadata": {
    "collapsed": false
   },
   "id": "83dcfa33ab5576c5"
  },
  {
   "cell_type": "code",
   "outputs": [
    {
     "name": "stdout",
     "output_type": "stream",
     "text": [
      "[0.0167902  0.85309889 0.62600782 0.8956776  0.87561567 0.00244427\n",
      " 0.97149065 0.77922442 0.4447457  0.58205636]\n"
     ]
    },
    {
     "data": {
      "text/plain": "0.4447457021835083"
     },
     "execution_count": 42,
     "metadata": {},
     "output_type": "execute_result"
    }
   ],
   "source": [
    "number = 0.5\n",
    "vector = np.random.rand(10)\n",
    "print(vector)\n",
    "closest_value = vector[np.abs(vector - number).argmin()]\n",
    "closest_value"
   ],
   "metadata": {
    "collapsed": false,
    "ExecuteTime": {
     "end_time": "2024-03-07T09:49:02.189937Z",
     "start_time": "2024-03-07T09:49:02.183840Z"
    }
   },
   "id": "3cac81d7f3fc36b8",
   "execution_count": 42
  },
  {
   "cell_type": "markdown",
   "source": [
    "### 11. Найдите N наибольших значений в векторе"
   ],
   "metadata": {
    "collapsed": false
   },
   "id": "ad2ea1192cd03c24"
  },
  {
   "cell_type": "code",
   "outputs": [
    {
     "name": "stdout",
     "output_type": "stream",
     "text": [
      "[0.14238188 0.76165263 0.11091998 0.16031318 0.95304562 0.5596756\n",
      " 0.48706775 0.16166331 0.19527356 0.16395541]\n"
     ]
    },
    {
     "data": {
      "text/plain": "array([0.5596756 , 0.76165263, 0.95304562])"
     },
     "execution_count": 43,
     "metadata": {},
     "output_type": "execute_result"
    }
   ],
   "source": [
    "N = 3\n",
    "vector = np.random.rand(10)\n",
    "print(vector)\n",
    "largest_values = vector[np.argsort(vector)[-N:]]\n",
    "largest_values"
   ],
   "metadata": {
    "collapsed": false,
    "ExecuteTime": {
     "end_time": "2024-03-07T09:49:02.198725Z",
     "start_time": "2024-03-07T09:49:02.191947Z"
    }
   },
   "id": "7481af76dff9b875",
   "execution_count": 43
  }
 ],
 "metadata": {
  "kernelspec": {
   "display_name": "Python 3",
   "language": "python",
   "name": "python3"
  },
  "language_info": {
   "codemirror_mode": {
    "name": "ipython",
    "version": 2
   },
   "file_extension": ".py",
   "mimetype": "text/x-python",
   "name": "python",
   "nbconvert_exporter": "python",
   "pygments_lexer": "ipython2",
   "version": "2.7.6"
  }
 },
 "nbformat": 4,
 "nbformat_minor": 5
}
