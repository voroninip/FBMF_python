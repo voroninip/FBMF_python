{
 "cells": [
  {
   "metadata": {
    "ExecuteTime": {
     "end_time": "2024-07-04T17:41:08.983075Z",
     "start_time": "2024-07-04T17:41:08.642066Z"
    }
   },
   "cell_type": "code",
   "source": [
    "from PIL import Image\n",
    "img = Image.open('south_park.jpg').convert('LA')\n",
    "img.save('gray.png')"
   ],
   "id": "5bf896522565dab",
   "outputs": [],
   "execution_count": 55
  }
 ],
 "metadata": {
  "kernelspec": {
   "display_name": "Python 3",
   "language": "python",
   "name": "python3"
  },
  "language_info": {
   "codemirror_mode": {
    "name": "ipython",
    "version": 2
   },
   "file_extension": ".py",
   "mimetype": "text/x-python",
   "name": "python",
   "nbconvert_exporter": "python",
   "pygments_lexer": "ipython2",
   "version": "2.7.6"
  }
 },
 "nbformat": 4,
 "nbformat_minor": 5
}
