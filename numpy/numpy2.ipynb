{
 "cells": [
  {
   "cell_type": "code",
   "source": [
    "import numpy as np\n",
    "import imageio\n",
    "from PIL import Image\n",
    "\n",
    "def grayscale_image(image, weights):\n",
    "    gray_image = np.dot(image, weights)\n",
    "    return gray_image\n",
    "\n",
    "# Загрузка цветного изображения\n",
    "image = imageio.v2.imread('south_park.jpg')\n",
    "\n",
    "# Коэффициенты для преобразования в оттенки серого\n",
    "weights = np.array([0.299, 0.587, 0.114])\n",
    "\n",
    "# Преобразование цветного изображения в оттенки серого\n",
    "gray_image = grayscale_image(image, weights)\n",
    "\n",
    "img = Image.fromarray(gray_image, 'I')\n",
    "img.save('gray.png')\n",
    "img.show()"
   ],
   "metadata": {
    "collapsed": false,
    "ExecuteTime": {
     "end_time": "2024-04-18T15:51:50.020985Z",
     "start_time": "2024-04-18T15:51:46.206843Z"
    }
   },
   "id": "fb7897c61a3a96ce",
   "outputs": [],
   "execution_count": 2
  }
 ],
 "metadata": {
  "kernelspec": {
   "display_name": "Python 3",
   "language": "python",
   "name": "python3"
  },
  "language_info": {
   "codemirror_mode": {
    "name": "ipython",
    "version": 2
   },
   "file_extension": ".py",
   "mimetype": "text/x-python",
   "name": "python",
   "nbconvert_exporter": "python",
   "pygments_lexer": "ipython2",
   "version": "2.7.6"
  }
 },
 "nbformat": 4,
 "nbformat_minor": 5
}
